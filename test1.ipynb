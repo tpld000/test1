{
 "cells": [
  {
   "cell_type": "code",
   "execution_count": 1130,
   "metadata": {},
   "outputs": [],
   "source": [
    "import pandas as pd"
   ]
  },
  {
   "cell_type": "code",
   "execution_count": 1131,
   "metadata": {},
   "outputs": [],
   "source": [
    "df = pd.read_excel('(工具)K3后备报表-生成工具(1).xlsm',sheet_name='数据粘贴')"
   ]
  },
  {
   "cell_type": "code",
   "execution_count": 1132,
   "metadata": {},
   "outputs": [
    {
     "data": {
      "text/plain": [
       "Index(['文档标识符', '表单标题名称', '表单创建日期', '对象 姓名', '对象 用户名', '对象 部门缩写', '参与者姓氏',\n",
       "       '参与者 用户名', '参与者 部门缩写', '参与者反馈状态', '参与者类别', '360 总体评分', '总体绩效评分', '资格姓名',\n",
       "       '资格描述', '资格评分', '资格评分描述', '部分评论'],\n",
       "      dtype='object')"
      ]
     },
     "execution_count": 1132,
     "metadata": {},
     "output_type": "execute_result"
    }
   ],
   "source": [
    "df.columns"
   ]
  },
  {
   "cell_type": "code",
   "execution_count": 1133,
   "metadata": {},
   "outputs": [
    {
     "data": {
      "text/plain": [
       "0      横向\n",
       "92     上级\n",
       "161    党委\n",
       "184    下属\n",
       "Name: 参与者类别, dtype: object"
      ]
     },
     "execution_count": 1133,
     "metadata": {},
     "output_type": "execute_result"
    }
   ],
   "source": [
    "df['参与者类别'].drop_duplicates()"
   ]
  },
  {
   "cell_type": "code",
   "execution_count": 1134,
   "metadata": {
    "scrolled": true
   },
   "outputs": [
    {
     "data": {
      "text/html": [
       "<div>\n",
       "<style scoped>\n",
       "    .dataframe tbody tr th:only-of-type {\n",
       "        vertical-align: middle;\n",
       "    }\n",
       "\n",
       "    .dataframe tbody tr th {\n",
       "        vertical-align: top;\n",
       "    }\n",
       "\n",
       "    .dataframe thead th {\n",
       "        text-align: right;\n",
       "    }\n",
       "</style>\n",
       "<table border=\"1\" class=\"dataframe\">\n",
       "  <thead>\n",
       "    <tr style=\"text-align: right;\">\n",
       "      <th></th>\n",
       "      <th>文档标识符</th>\n",
       "      <th>表单标题名称</th>\n",
       "      <th>表单创建日期</th>\n",
       "      <th>对象 姓名</th>\n",
       "      <th>对象 用户名</th>\n",
       "      <th>对象 部门缩写</th>\n",
       "      <th>参与者姓氏</th>\n",
       "      <th>参与者 用户名</th>\n",
       "      <th>参与者 部门缩写</th>\n",
       "      <th>参与者反馈状态</th>\n",
       "      <th>参与者类别</th>\n",
       "      <th>360 总体评分</th>\n",
       "      <th>总体绩效评分</th>\n",
       "      <th>资格姓名</th>\n",
       "      <th>资格描述</th>\n",
       "      <th>资格评分</th>\n",
       "      <th>资格评分描述</th>\n",
       "      <th>部分评论</th>\n",
       "    </tr>\n",
       "  </thead>\n",
       "  <tbody>\n",
       "    <tr>\n",
       "      <td>0</td>\n",
       "      <td>13267</td>\n",
       "      <td>K3后备360能力评价问卷（HP Fiori新版） 针对 猩红女巫</td>\n",
       "      <td>2020-12-21 13:10:50</td>\n",
       "      <td>猩红</td>\n",
       "      <td>HPGM02</td>\n",
       "      <td>0</td>\n",
       "      <td>SF</td>\n",
       "      <td>adminsf</td>\n",
       "      <td>0</td>\n",
       "      <td>已完成</td>\n",
       "      <td>横向</td>\n",
       "      <td>3.70399</td>\n",
       "      <td>3.4</td>\n",
       "      <td>政治标准-4</td>\n",
       "      <td>品德优良，为人正直，遵守国家法律法规、公司规章制度和社会道德规范；严于律己，不徇私情，不谋私...</td>\n",
       "      <td>2</td>\n",
       "      <td>很少</td>\n",
       "      <td>NaN</td>\n",
       "    </tr>\n",
       "  </tbody>\n",
       "</table>\n",
       "</div>"
      ],
      "text/plain": [
       "   文档标识符                             表单标题名称              表单创建日期 对象 姓名  对象 用户名  \\\n",
       "0  13267  K3后备360能力评价问卷（HP Fiori新版） 针对 猩红女巫 2020-12-21 13:10:50    猩红  HPGM02   \n",
       "\n",
       "   对象 部门缩写 参与者姓氏  参与者 用户名 参与者 部门缩写 参与者反馈状态 参与者类别  360 总体评分  总体绩效评分    资格姓名  \\\n",
       "0        0    SF  adminsf        0     已完成    横向   3.70399     3.4  政治标准-4   \n",
       "\n",
       "                                                资格描述 资格评分 资格评分描述 部分评论  \n",
       "0  品德优良，为人正直，遵守国家法律法规、公司规章制度和社会道德规范；严于律己，不徇私情，不谋私...    2     很少  NaN  "
      ]
     },
     "execution_count": 1134,
     "metadata": {},
     "output_type": "execute_result"
    }
   ],
   "source": [
    "df.head(1)"
   ]
  },
  {
   "cell_type": "code",
   "execution_count": 1135,
   "metadata": {},
   "outputs": [],
   "source": [
    "shiji_pingjia = df[['参与者 用户名','参与者姓氏', '参与者 部门缩写','参与者类别','参与者反馈状态']].query('参与者反馈状态==\"已完成\"')"
   ]
  },
  {
   "cell_type": "code",
   "execution_count": 1136,
   "metadata": {},
   "outputs": [
    {
     "data": {
      "text/plain": [
       "10"
      ]
     },
     "execution_count": 1136,
     "metadata": {},
     "output_type": "execute_result"
    }
   ],
   "source": [
    "count_shiji_pingjia = len(shiji_pingjia['参与者 用户名'].unique())\n",
    "count_shiji_pingjia"
   ]
  },
  {
   "cell_type": "code",
   "execution_count": 1137,
   "metadata": {},
   "outputs": [
    {
     "data": {
      "text/html": [
       "<div>\n",
       "<style scoped>\n",
       "    .dataframe tbody tr th:only-of-type {\n",
       "        vertical-align: middle;\n",
       "    }\n",
       "\n",
       "    .dataframe tbody tr th {\n",
       "        vertical-align: top;\n",
       "    }\n",
       "\n",
       "    .dataframe thead th {\n",
       "        text-align: right;\n",
       "    }\n",
       "</style>\n",
       "<table border=\"1\" class=\"dataframe\">\n",
       "  <thead>\n",
       "    <tr style=\"text-align: right;\">\n",
       "      <th></th>\n",
       "      <th>参与者 用户名</th>\n",
       "      <th>参与者姓氏</th>\n",
       "      <th>参与者 部门缩写</th>\n",
       "      <th>参与者类别</th>\n",
       "      <th>参与者反馈状态</th>\n",
       "    </tr>\n",
       "  </thead>\n",
       "  <tbody>\n",
       "    <tr>\n",
       "      <td>0</td>\n",
       "      <td>test02</td>\n",
       "      <td>T周超一</td>\n",
       "      <td>EP</td>\n",
       "      <td>党委</td>\n",
       "      <td>已完成</td>\n",
       "    </tr>\n",
       "    <tr>\n",
       "      <td>1</td>\n",
       "      <td>HPGM01</td>\n",
       "      <td>洛基</td>\n",
       "      <td>HP</td>\n",
       "      <td>上级</td>\n",
       "      <td>已完成</td>\n",
       "    </tr>\n",
       "    <tr>\n",
       "      <td>2</td>\n",
       "      <td>test04</td>\n",
       "      <td>周朝洋</td>\n",
       "      <td>EP</td>\n",
       "      <td>下属</td>\n",
       "      <td>已完成</td>\n",
       "    </tr>\n",
       "    <tr>\n",
       "      <td>3</td>\n",
       "      <td>test03</td>\n",
       "      <td>朱昌予</td>\n",
       "      <td>EP</td>\n",
       "      <td>下属</td>\n",
       "      <td>已完成</td>\n",
       "    </tr>\n",
       "    <tr>\n",
       "      <td>4</td>\n",
       "      <td>adminsf</td>\n",
       "      <td>SF</td>\n",
       "      <td>0</td>\n",
       "      <td>横向</td>\n",
       "      <td>已完成</td>\n",
       "    </tr>\n",
       "    <tr>\n",
       "      <td>5</td>\n",
       "      <td>MSGM01</td>\n",
       "      <td>钢铁</td>\n",
       "      <td>0</td>\n",
       "      <td>横向</td>\n",
       "      <td>已完成</td>\n",
       "    </tr>\n",
       "    <tr>\n",
       "      <td>6</td>\n",
       "      <td>CI01</td>\n",
       "      <td>鹰</td>\n",
       "      <td>0</td>\n",
       "      <td>横向</td>\n",
       "      <td>已完成</td>\n",
       "    </tr>\n",
       "    <tr>\n",
       "      <td>7</td>\n",
       "      <td>MMGM01</td>\n",
       "      <td>美国</td>\n",
       "      <td>0</td>\n",
       "      <td>横向</td>\n",
       "      <td>已完成</td>\n",
       "    </tr>\n",
       "    <tr>\n",
       "      <td>8</td>\n",
       "      <td>MMSD01</td>\n",
       "      <td>蜘蛛</td>\n",
       "      <td>0</td>\n",
       "      <td>横向</td>\n",
       "      <td>已完成</td>\n",
       "    </tr>\n",
       "    <tr>\n",
       "      <td>9</td>\n",
       "      <td>MMSD02</td>\n",
       "      <td>雷</td>\n",
       "      <td>0</td>\n",
       "      <td>横向</td>\n",
       "      <td>已完成</td>\n",
       "    </tr>\n",
       "  </tbody>\n",
       "</table>\n",
       "</div>"
      ],
      "text/plain": [
       "   参与者 用户名 参与者姓氏 参与者 部门缩写 参与者类别 参与者反馈状态\n",
       "0   test02  T周超一       EP    党委     已完成\n",
       "1   HPGM01    洛基       HP    上级     已完成\n",
       "2   test04   周朝洋       EP    下属     已完成\n",
       "3   test03   朱昌予       EP    下属     已完成\n",
       "4  adminsf    SF        0    横向     已完成\n",
       "5   MSGM01    钢铁        0    横向     已完成\n",
       "6     CI01     鹰        0    横向     已完成\n",
       "7   MMGM01    美国        0    横向     已完成\n",
       "8   MMSD01    蜘蛛        0    横向     已完成\n",
       "9   MMSD02     雷        0    横向     已完成"
      ]
     },
     "execution_count": 1137,
     "metadata": {},
     "output_type": "execute_result"
    }
   ],
   "source": [
    "sort_shiji_pingjia  =pd.DataFrame()\n",
    "sort_list = ['党委','上级','下属','横向']\n",
    "for i in sort_list:\n",
    "    temp = shiji_pingjia.drop_duplicates().query(f'参与者类别==\"{i}\"')\n",
    "    sort_shiji_pingjia = sort_shiji_pingjia.append(temp,ignore_index=True)\n",
    "sort_shiji_pingjia"
   ]
  },
  {
   "cell_type": "code",
   "execution_count": 1138,
   "metadata": {},
   "outputs": [],
   "source": [
    "canping_df = df[['参与者 用户名','参与者姓氏', '参与者 部门缩写','参与者类别','参与者反馈状态']].drop_duplicates()"
   ]
  },
  {
   "cell_type": "code",
   "execution_count": 1139,
   "metadata": {},
   "outputs": [],
   "source": [
    "last_df = canping_df.query('参与者反馈状态!=\"已完成\"').reset_index(drop=True)"
   ]
  },
  {
   "cell_type": "code",
   "execution_count": 1140,
   "metadata": {},
   "outputs": [],
   "source": [
    "count_canping= len(canping_df)"
   ]
  },
  {
   "cell_type": "code",
   "execution_count": 1141,
   "metadata": {},
   "outputs": [
    {
     "data": {
      "text/plain": [
       "11"
      ]
     },
     "execution_count": 1141,
     "metadata": {},
     "output_type": "execute_result"
    }
   ],
   "source": [
    "count_canping"
   ]
  },
  {
   "cell_type": "code",
   "execution_count": 1142,
   "metadata": {
    "scrolled": true
   },
   "outputs": [
    {
     "data": {
      "text/plain": [
       "Index(['文档标识符', '表单标题名称', '表单创建日期', '对象 姓名', '对象 用户名', '对象 部门缩写', '参与者姓氏',\n",
       "       '参与者 用户名', '参与者 部门缩写', '参与者反馈状态', '参与者类别', '360 总体评分', '总体绩效评分', '资格姓名',\n",
       "       '资格描述', '资格评分', '资格评分描述', '部分评论'],\n",
       "      dtype='object')"
      ]
     },
     "execution_count": 1142,
     "metadata": {},
     "output_type": "execute_result"
    }
   ],
   "source": [
    "df.columns"
   ]
  },
  {
   "cell_type": "code",
   "execution_count": null,
   "metadata": {},
   "outputs": [],
   "source": []
  },
  {
   "cell_type": "code",
   "execution_count": 1143,
   "metadata": {},
   "outputs": [],
   "source": [
    "name = df.loc[0,'对象 姓名']\n",
    "name_id = df.loc[0,'对象 用户名']\n",
    "date = df.loc[0,'表单创建日期'].strftime('%Y-%m-%d')\n",
    "depart = df.loc[0,'对象 部门缩写']"
   ]
  },
  {
   "cell_type": "code",
   "execution_count": 1144,
   "metadata": {},
   "outputs": [],
   "source": [
    "import openpyxl"
   ]
  },
  {
   "cell_type": "code",
   "execution_count": 1145,
   "metadata": {},
   "outputs": [],
   "source": [
    "file_name = '(模板)K3后备报表-被评人(工号)_日期.xlsx'\n",
    "wb = openpyxl.load_workbook(file_name)"
   ]
  },
  {
   "cell_type": "code",
   "execution_count": 1146,
   "metadata": {},
   "outputs": [],
   "source": [
    "sheet = wb['K3后备360度能力评价-签到表']\n",
    "sheet1 = wb['K3后备360度能力评价--个人得分详细汇总表']\n",
    "sheet2 = wb['K3后备360度能力评价--附加问题回答汇总表']"
   ]
  },
  {
   "cell_type": "markdown",
   "metadata": {},
   "source": [
    "# K3后备360度能力评价-签到表"
   ]
  },
  {
   "cell_type": "code",
   "execution_count": 1147,
   "metadata": {},
   "outputs": [],
   "source": [
    "sheet['C3'] = name\n",
    "sheet['F2'] = name_id\n",
    "sheet['F3'] = date\n",
    "sheet['C2'] = depart\n",
    "sheet['C4'] = count_canping\n",
    "sheet['C5'] = count_shiji_pingjia"
   ]
  },
  {
   "cell_type": "code",
   "execution_count": 1148,
   "metadata": {},
   "outputs": [],
   "source": [
    "i = 8\n",
    "for gonghao in sort_shiji_pingjia['参与者 用户名']:\n",
    "    sheet['B'+str(i)] = gonghao\n",
    "            \n",
    "    i+=1"
   ]
  },
  {
   "cell_type": "code",
   "execution_count": 1149,
   "metadata": {},
   "outputs": [],
   "source": [
    "for gonghao in last_df['参与者 用户名']:\n",
    "    sheet['B'+str(i)] = gonghao\n",
    "    \n",
    "    i+=1"
   ]
  },
  {
   "cell_type": "code",
   "execution_count": 1150,
   "metadata": {},
   "outputs": [],
   "source": [
    "i = 8\n",
    "for xingming in sort_shiji_pingjia['参与者姓氏']:\n",
    "    sheet['C'+str(i)] = xingming\n",
    "            \n",
    "    i+=1"
   ]
  },
  {
   "cell_type": "code",
   "execution_count": 1151,
   "metadata": {},
   "outputs": [],
   "source": [
    "for xingming in last_df['参与者姓氏']:\n",
    "    sheet['C'+str(i)] = xingming\n",
    "\n",
    "    i+=1"
   ]
  },
  {
   "cell_type": "code",
   "execution_count": 1152,
   "metadata": {},
   "outputs": [],
   "source": [
    "i = 8\n",
    "for bumen in sort_shiji_pingjia['参与者 部门缩写']:\n",
    "    sheet['D'+str(i)] = bumen\n",
    "            \n",
    "    i+=1"
   ]
  },
  {
   "cell_type": "code",
   "execution_count": 1153,
   "metadata": {},
   "outputs": [],
   "source": [
    "for bumen in last_df['参与者 部门缩写']:\n",
    "    sheet['D'+str(i)] = bumen\n",
    "            \n",
    "    i+=1"
   ]
  },
  {
   "cell_type": "code",
   "execution_count": 1154,
   "metadata": {},
   "outputs": [],
   "source": [
    "i = 8\n",
    "for pingjiajuese in sort_shiji_pingjia['参与者类别']:\n",
    "    sheet['E'+str(i)] = pingjiajuese\n",
    "            \n",
    "    i+=1"
   ]
  },
  {
   "cell_type": "code",
   "execution_count": 1155,
   "metadata": {},
   "outputs": [],
   "source": [
    "for pingjiajuese in last_df['参与者类别']:\n",
    "    sheet['E'+str(i)] = pingjiajuese\n",
    "            \n",
    "    i+=1"
   ]
  },
  {
   "cell_type": "code",
   "execution_count": 1156,
   "metadata": {},
   "outputs": [],
   "source": [
    "i=8\n",
    "for pingfenzhuangtai in sort_shiji_pingjia['参与者反馈状态']:\n",
    "    sheet['F'+str(i)] = pingfenzhuangtai\n",
    "            \n",
    "    i+=1"
   ]
  },
  {
   "cell_type": "code",
   "execution_count": 1157,
   "metadata": {},
   "outputs": [],
   "source": [
    " for pingfenzhuangtai in last_df['参与者反馈状态']:\n",
    "    sheet['F'+str(i)] = pingfenzhuangtai       \n",
    "    \n",
    "    i+=1   "
   ]
  },
  {
   "cell_type": "markdown",
   "metadata": {},
   "source": [
    "# K3后备360度能力评价--个人得分详细汇总表"
   ]
  },
  {
   "cell_type": "code",
   "execution_count": 1158,
   "metadata": {},
   "outputs": [],
   "source": [
    "hengxiang = df[['参与者类别','资格姓名', '资格描述','资格评分']].query('参与者类别==\"横向\"')   "
   ]
  },
  {
   "cell_type": "code",
   "execution_count": 1159,
   "metadata": {},
   "outputs": [],
   "source": [
    "shangji = df[['参与者类别','资格姓名', '资格描述','资格评分']].query('参与者类别==\"上级\"'and '参与者类别==\"党委\"')   "
   ]
  },
  {
   "cell_type": "code",
   "execution_count": 1160,
   "metadata": {},
   "outputs": [],
   "source": [
    "xiashu = df[['参与者类别','资格姓名', '资格描述','资格评分']].query('参与者类别==\"下属\"')   "
   ]
  },
  {
   "cell_type": "markdown",
   "metadata": {},
   "source": [
    "# 评价指标分类"
   ]
  },
  {
   "cell_type": "markdown",
   "metadata": {},
   "source": [
    "横向"
   ]
  },
  {
   "cell_type": "code",
   "execution_count": 1161,
   "metadata": {},
   "outputs": [],
   "source": [
    "hengxiang_jihuayuzhixing1 = hengxiang.query('资格姓名==\"计划与执行-1\"')\n",
    "hengxiang_jihuayuzhixing2 = hengxiang.query('资格姓名==\"计划与执行-2\"')"
   ]
  },
  {
   "cell_type": "code",
   "execution_count": 1162,
   "metadata": {},
   "outputs": [],
   "source": [
    "hengxiang_fenxigaishan1 = hengxiang.query('资格姓名==\"分析改善-1\"')\n",
    "hengxiang_fenxigaishan2 = hengxiang.query('资格姓名==\"分析改善-2\"')"
   ]
  },
  {
   "cell_type": "code",
   "execution_count": 1163,
   "metadata": {},
   "outputs": [],
   "source": [
    "hengxiang_liuchengshishi1 = hengxiang.query('资格姓名==\"流程实施-1\"')\n",
    "hengxiang_liuchengshishi2 = hengxiang.query('资格姓名==\"流程实施-2\"')"
   ]
  },
  {
   "cell_type": "code",
   "execution_count": 1164,
   "metadata": {},
   "outputs": [],
   "source": [
    "hengxiang_gaoxiaogoutong1 = hengxiang.query('资格姓名==\"高效沟通-1\"')\n",
    "hengxiang_gaoxiaogoutong2 = hengxiang.query('资格姓名==\"高效沟通-2\"')"
   ]
  },
  {
   "cell_type": "code",
   "execution_count": 1165,
   "metadata": {},
   "outputs": [],
   "source": [
    "hengxiang_tuanduiningjie1 = hengxiang.query('资格姓名==\"团队凝聚-1\"')\n",
    "hengxiang_tuanduiningjie2 = hengxiang.query('资格姓名==\"团队凝聚-2\"')"
   ]
  },
  {
   "cell_type": "code",
   "execution_count": 1166,
   "metadata": {},
   "outputs": [],
   "source": [
    "hengxiang_yuangongpeiyu1  = hengxiang.query('资格姓名==\"员工培育-1\"')\n",
    "hengxiang_yuangongpeiyu2  = hengxiang.query('资格姓名==\"员工培育-2\"')"
   ]
  },
  {
   "cell_type": "code",
   "execution_count": 1167,
   "metadata": {},
   "outputs": [],
   "source": [
    "hengxiang_jiazhiguan1 = hengxiang.query('资格姓名==\"价值观-1\"')\n",
    "hengxiang_jiazhiguan2 = hengxiang.query('资格姓名==\"价值观-2\"')\n",
    "hengxiang_jiazhiguan3 = hengxiang.query('资格姓名==\"价值观-3\"')\n",
    "hengxiang_jiazhiguan4 = hengxiang.query('资格姓名==\"价值观-4\"')"
   ]
  },
  {
   "cell_type": "code",
   "execution_count": 1168,
   "metadata": {},
   "outputs": [],
   "source": [
    "hengxiang_zhengzhibiaozhun1 = hengxiang.query('资格姓名==\"政治标准-1\"')\n",
    "hengxiang_zhengzhibiaozhun2 = hengxiang.query('资格姓名==\"政治标准-2\"')\n",
    "hengxiang_zhengzhibiaozhun3 = hengxiang.query('资格姓名==\"政治标准-3\"')\n",
    "hengxiang_zhengzhibiaozhun4 = hengxiang.query('资格姓名==\"政治标准-4\"')"
   ]
  },
  {
   "cell_type": "code",
   "execution_count": 1169,
   "metadata": {},
   "outputs": [
    {
     "data": {
      "text/html": [
       "<div>\n",
       "<style scoped>\n",
       "    .dataframe tbody tr th:only-of-type {\n",
       "        vertical-align: middle;\n",
       "    }\n",
       "\n",
       "    .dataframe tbody tr th {\n",
       "        vertical-align: top;\n",
       "    }\n",
       "\n",
       "    .dataframe thead th {\n",
       "        text-align: right;\n",
       "    }\n",
       "</style>\n",
       "<table border=\"1\" class=\"dataframe\">\n",
       "  <thead>\n",
       "    <tr style=\"text-align: right;\">\n",
       "      <th></th>\n",
       "      <th>参与者类别</th>\n",
       "      <th>资格姓名</th>\n",
       "      <th>资格描述</th>\n",
       "      <th>资格评分</th>\n",
       "    </tr>\n",
       "  </thead>\n",
       "  <tbody>\n",
       "    <tr>\n",
       "      <td>3</td>\n",
       "      <td>横向</td>\n",
       "      <td>政治标准-1</td>\n",
       "      <td>对党忠诚，坚决拥护共产党的领导；忠于企业，切实履行第一合规责任人职责，防止可能侵害公司的利益...</td>\n",
       "      <td>5</td>\n",
       "    </tr>\n",
       "    <tr>\n",
       "      <td>36</td>\n",
       "      <td>横向</td>\n",
       "      <td>政治标准-1</td>\n",
       "      <td>对党忠诚，坚决拥护共产党的领导；忠于企业，切实履行第一合规责任人职责，防止可能侵害公司的利益...</td>\n",
       "      <td>3</td>\n",
       "    </tr>\n",
       "    <tr>\n",
       "      <td>50</td>\n",
       "      <td>横向</td>\n",
       "      <td>政治标准-1</td>\n",
       "      <td>对党忠诚，坚决拥护共产党的领导；忠于企业，切实履行第一合规责任人职责，防止可能侵害公司的利益...</td>\n",
       "      <td>5</td>\n",
       "    </tr>\n",
       "    <tr>\n",
       "      <td>72</td>\n",
       "      <td>横向</td>\n",
       "      <td>政治标准-1</td>\n",
       "      <td>对党忠诚，坚决拥护共产党的领导；忠于企业，切实履行第一合规责任人职责，防止可能侵害公司的利益...</td>\n",
       "      <td>4</td>\n",
       "    </tr>\n",
       "    <tr>\n",
       "      <td>121</td>\n",
       "      <td>横向</td>\n",
       "      <td>政治标准-1</td>\n",
       "      <td>对党忠诚，坚决拥护共产党的领导；忠于企业，切实履行第一合规责任人职责，防止可能侵害公司的利益...</td>\n",
       "      <td>3</td>\n",
       "    </tr>\n",
       "    <tr>\n",
       "      <td>144</td>\n",
       "      <td>横向</td>\n",
       "      <td>政治标准-1</td>\n",
       "      <td>对党忠诚，坚决拥护共产党的领导；忠于企业，切实履行第一合规责任人职责，防止可能侵害公司的利益...</td>\n",
       "      <td>4</td>\n",
       "    </tr>\n",
       "  </tbody>\n",
       "</table>\n",
       "</div>"
      ],
      "text/plain": [
       "    参与者类别    资格姓名                                               资格描述 资格评分\n",
       "3      横向  政治标准-1  对党忠诚，坚决拥护共产党的领导；忠于企业，切实履行第一合规责任人职责，防止可能侵害公司的利益...    5\n",
       "36     横向  政治标准-1  对党忠诚，坚决拥护共产党的领导；忠于企业，切实履行第一合规责任人职责，防止可能侵害公司的利益...    3\n",
       "50     横向  政治标准-1  对党忠诚，坚决拥护共产党的领导；忠于企业，切实履行第一合规责任人职责，防止可能侵害公司的利益...    5\n",
       "72     横向  政治标准-1  对党忠诚，坚决拥护共产党的领导；忠于企业，切实履行第一合规责任人职责，防止可能侵害公司的利益...    4\n",
       "121    横向  政治标准-1  对党忠诚，坚决拥护共产党的领导；忠于企业，切实履行第一合规责任人职责，防止可能侵害公司的利益...    3\n",
       "144    横向  政治标准-1  对党忠诚，坚决拥护共产党的领导；忠于企业，切实履行第一合规责任人职责，防止可能侵害公司的利益...    4"
      ]
     },
     "execution_count": 1169,
     "metadata": {},
     "output_type": "execute_result"
    }
   ],
   "source": [
    "hengxiang_zhengzhibiaozhun1"
   ]
  },
  {
   "cell_type": "markdown",
   "metadata": {},
   "source": [
    "横向—计划与执行—1-分数"
   ]
  },
  {
   "cell_type": "code",
   "execution_count": 1170,
   "metadata": {},
   "outputs": [],
   "source": [
    "hengxiang_jihuayuzhixing1_score = hengxiang_jihuayuzhixing1[['资格评分']].drop_duplicates()\n",
    "hengxiang_jihuayuzhixing1_score_df = hengxiang_jihuayuzhixing1_score.query('资格评分!=\"暂无\"').reset_index(drop=True)\n",
    "hengxiang_jihuayuzhixing1_score_df\n",
    "hengxiang_jihuayuzhixing1_score_df2 = hengxiang_jihuayuzhixing1_score_df.fillna(0)\n",
    "hengxiang_jihuayuzhixing1_score_df2\n",
    "hengxiang_jihuayuzhixing1_score_df3 = hengxiang_jihuayuzhixing1_score_df2.query('资格评分!=0').reset_index(drop=True)\n",
    "hengxiang_jihuayuzhixing1_score_df3\n",
    "hengxiang_jihuayuzhixing1_score_df3_L = len(hengxiang_jihuayuzhixing1_score_df3)\n",
    "hengxiang_jihuayuzhixing1_SUM = float(hengxiang_jihuayuzhixing1_score_df3.sum())\n",
    "hengxiang_jihuayuzhixing1_Mean = hengxiang_jihuayuzhixing1_SUM/hengxiang_jihuayuzhixing1_score_df3_L\n",
    "sheet1['G7'] = float(hengxiang_jihuayuzhixing1_Mean)"
   ]
  },
  {
   "cell_type": "markdown",
   "metadata": {},
   "source": [
    "横向—计划与执行—2-分数"
   ]
  },
  {
   "cell_type": "code",
   "execution_count": 1171,
   "metadata": {},
   "outputs": [],
   "source": [
    "hengxiang_jihuayuzhixing2_score = hengxiang_jihuayuzhixing2[['资格评分']].drop_duplicates()\n",
    "hengxiang_jihuayuzhixing2_score_df = hengxiang_jihuayuzhixing2_score.query('资格评分!=\"暂无\"').reset_index(drop=True)\n",
    "hengxiang_jihuayuzhixing2_score_df\n",
    "hengxiang_jihuayuzhixing2_score_df2 = hengxiang_jihuayuzhixing2_score_df.fillna(0)\n",
    "hengxiang_jihuayuzhixing2_score_df2\n",
    "hengxiang_jihuayuzhixing2_score_df3 = hengxiang_jihuayuzhixing2_score_df2.query('资格评分!=0').reset_index(drop=True)\n",
    "hengxiang_jihuayuzhixing2_score_df3\n",
    "hengxiang_jihuayuzhixing2_score_df3_L = len(hengxiang_jihuayuzhixing2_score_df3)\n",
    "hengxiang_jihuayuzhixing2_SUM = float(hengxiang_jihuayuzhixing2_score_df3.sum())\n",
    "hengxiang_jihuayuzhixing2_Mean = hengxiang_jihuayuzhixing2_SUM/hengxiang_jihuayuzhixing2_score_df3_L\n",
    "sheet1['G8'] = float(hengxiang_jihuayuzhixing2_Mean)"
   ]
  },
  {
   "cell_type": "markdown",
   "metadata": {},
   "source": [
    "横向-分析改善-1-分数"
   ]
  },
  {
   "cell_type": "code",
   "execution_count": 1172,
   "metadata": {},
   "outputs": [],
   "source": [
    "hengxiang_fenxigaishan1_score = hengxiang_fenxigaishan1[['资格评分']].drop_duplicates()\n",
    "hengxiang_fenxigaishan1_score_df = hengxiang_fenxigaishan1_score.query('资格评分!=\"暂无\"').reset_index(drop=True)\n",
    "hengxiang_fenxigaishan1_score_df\n",
    "hengxiang_fenxigaishan1_score_df2 = hengxiang_fenxigaishan1_score_df.fillna(0)\n",
    "hengxiang_fenxigaishan1_score_df2\n",
    "hengxiang_fenxigaishan1_score_df3 = hengxiang_fenxigaishan1_score_df2.query('资格评分!=0').reset_index(drop=True)\n",
    "hengxiang_fenxigaishan1_score_df3\n",
    "hengxiang_fenxigaishan1_score_df3_L = len(hengxiang_fenxigaishan1_score_df3)\n",
    "hengxiang_fenxigaishan1_SUM = float(hengxiang_fenxigaishan1_score_df3.sum())\n",
    "hengxiang_fenxigaishan1_Mean = hengxiang_fenxigaishan1_SUM/hengxiang_fenxigaishan1_score_df3_L\n",
    "sheet1['G9'] = float(hengxiang_fenxigaishan1_Mean)"
   ]
  },
  {
   "cell_type": "markdown",
   "metadata": {},
   "source": [
    "横向-分析改善2-分数"
   ]
  },
  {
   "cell_type": "code",
   "execution_count": 1173,
   "metadata": {},
   "outputs": [],
   "source": [
    "hengxiang_fenxigaishan2_score = hengxiang_fenxigaishan2[['资格评分']].drop_duplicates()\n",
    "hengxiang_fenxigaishan2_score_df = hengxiang_fenxigaishan2_score.query('资格评分!=\"暂无\"').reset_index(drop=True)\n",
    "hengxiang_fenxigaishan2_score_df\n",
    "hengxiang_fenxigaishan2_score_df2 = hengxiang_fenxigaishan2_score_df.fillna(0)\n",
    "hengxiang_fenxigaishan2_score_df2\n",
    "hengxiang_fenxigaishan2_score_df3 = hengxiang_fenxigaishan2_score_df2.query('资格评分!=0').reset_index(drop=True)\n",
    "hengxiang_fenxigaishan2_score_df3\n",
    "hengxiang_fenxigaishan2_score_df3_L = len(hengxiang_fenxigaishan2_score_df3)\n",
    "hengxiang_fenxigaishan2_SUM = float(hengxiang_fenxigaishan2_score_df3.sum())\n",
    "hengxiang_fenxigaishan2_Mean = hengxiang_fenxigaishan2_SUM/hengxiang_fenxigaishan2_score_df3_L\n",
    "sheet1['G10'] = float(hengxiang_fenxigaishan2_Mean)"
   ]
  },
  {
   "cell_type": "markdown",
   "metadata": {},
   "source": [
    "横向-流程实施1-分数"
   ]
  },
  {
   "cell_type": "code",
   "execution_count": 1174,
   "metadata": {},
   "outputs": [],
   "source": [
    "hengxiang_liuchengshishi1_score = hengxiang_liuchengshishi1[['资格评分']].drop_duplicates()\n",
    "hengxiang_liuchengshishi1_score_df = hengxiang_liuchengshishi1_score.query('资格评分!=\"暂无\"').reset_index(drop=True)\n",
    "hengxiang_liuchengshishi1_score_df\n",
    "hengxiang_liuchengshishi1_score_df2 = hengxiang_liuchengshishi1_score_df.fillna(0)\n",
    "hengxiang_liuchengshishi1_score_df2\n",
    "hengxiang_liuchengshishi1_score_df3 = hengxiang_liuchengshishi1_score_df2.query('资格评分!=0').reset_index(drop=True)\n",
    "hengxiang_liuchengshishi1_score_df3\n",
    "hengxiang_liuchengshishi1_score_df3_L = len(hengxiang_liuchengshishi1_score_df3)\n",
    "hengxiang_liuchengshishi1_SUM = float(hengxiang_liuchengshishi1_score_df3.sum())\n",
    "hengxiang_liuchengshishi1_Mean = hengxiang_liuchengshishi1_SUM/hengxiang_liuchengshishi1_score_df3_L\n",
    "sheet1['G11'] = float(hengxiang_liuchengshishi1_Mean)"
   ]
  },
  {
   "cell_type": "markdown",
   "metadata": {},
   "source": [
    "横向-流程实施2-分数"
   ]
  },
  {
   "cell_type": "code",
   "execution_count": 1175,
   "metadata": {},
   "outputs": [],
   "source": [
    "hengxiang_liuchengshishi2_score = hengxiang_liuchengshishi2[['资格评分']].drop_duplicates()\n",
    "hengxiang_liuchengshishi2_score_df = hengxiang_liuchengshishi2_score.query('资格评分!=\"暂无\"').reset_index(drop=True)\n",
    "hengxiang_liuchengshishi2_score_df\n",
    "hengxiang_liuchengshishi2_score_df2 = hengxiang_liuchengshishi2_score_df.fillna(0)\n",
    "hengxiang_liuchengshishi2_score_df2\n",
    "hengxiang_liuchengshishi2_score_df3 = hengxiang_liuchengshishi2_score_df2.query('资格评分!=0').reset_index(drop=True)\n",
    "hengxiang_liuchengshishi2_score_df3\n",
    "hengxiang_liuchengshishi2_score_df3_L = len(hengxiang_liuchengshishi2_score_df3)\n",
    "hengxiang_liuchengshishi2_SUM = float(hengxiang_liuchengshishi2_score_df3.sum())\n",
    "hengxiang_liuchengshishi2_Mean = hengxiang_liuchengshishi2_SUM/hengxiang_liuchengshishi2_score_df3_L\n",
    "sheet1['G12'] = float(hengxiang_liuchengshishi2_Mean)"
   ]
  },
  {
   "cell_type": "markdown",
   "metadata": {},
   "source": [
    "横向-高效沟通1-分数"
   ]
  },
  {
   "cell_type": "code",
   "execution_count": 1176,
   "metadata": {},
   "outputs": [],
   "source": [
    "hengxiang_gaoxiaogoutong1_score = hengxiang_gaoxiaogoutong1[['资格评分']].drop_duplicates()\n",
    "hengxiang_gaoxiaogoutong1_score_df = hengxiang_gaoxiaogoutong1_score.query('资格评分!=\"暂无\"').reset_index(drop=True)\n",
    "hengxiang_gaoxiaogoutong1_score_df\n",
    "hengxiang_gaoxiaogoutong1_score_df2 = hengxiang_gaoxiaogoutong1_score_df.fillna(0)\n",
    "hengxiang_gaoxiaogoutong1_score_df2\n",
    "hengxiang_gaoxiaogoutong1_score_df3 = hengxiang_gaoxiaogoutong1_score_df2.query('资格评分!=0').reset_index(drop=True)\n",
    "hengxiang_gaoxiaogoutong1_score_df3\n",
    "hengxiang_gaoxiaogoutong1_score_df3_L = len(hengxiang_gaoxiaogoutong1_score_df3)\n",
    "hengxiang_gaoxiaogoutong1_SUM = float(hengxiang_gaoxiaogoutong1_score_df3.sum())\n",
    "hengxiang_gaoxiaogoutong1_Mean = hengxiang_gaoxiaogoutong1_SUM/hengxiang_gaoxiaogoutong1_score_df3_L\n",
    "sheet1['G13'] = float(hengxiang_gaoxiaogoutong1_Mean)"
   ]
  },
  {
   "cell_type": "markdown",
   "metadata": {},
   "source": [
    "横向-高效沟通2-分数"
   ]
  },
  {
   "cell_type": "code",
   "execution_count": 1177,
   "metadata": {},
   "outputs": [],
   "source": [
    "hengxiang_gaoxiaogoutong2_score = hengxiang_gaoxiaogoutong2[['资格评分']].drop_duplicates()\n",
    "hengxiang_gaoxiaogoutong2_score_df = hengxiang_gaoxiaogoutong2_score.query('资格评分!=\"暂无\"').reset_index(drop=True)\n",
    "hengxiang_gaoxiaogoutong2_score_df\n",
    "hengxiang_gaoxiaogoutong2_score_df2 = hengxiang_gaoxiaogoutong2_score_df.fillna(0)\n",
    "hengxiang_gaoxiaogoutong2_score_df2\n",
    "hengxiang_gaoxiaogoutong2_score_df3 = hengxiang_gaoxiaogoutong2_score_df2.query('资格评分!=0').reset_index(drop=True)\n",
    "hengxiang_gaoxiaogoutong2_score_df3\n",
    "hengxiang_gaoxiaogoutong2_score_df3_L = len(hengxiang_gaoxiaogoutong2_score_df3)\n",
    "hengxiang_gaoxiaogoutong2_SUM = float(hengxiang_gaoxiaogoutong2_score_df3.sum())\n",
    "hengxiang_gaoxiaogoutong2_Mean = hengxiang_gaoxiaogoutong2_SUM/hengxiang_gaoxiaogoutong2_score_df3_L\n",
    "sheet1['G14'] = float(hengxiang_gaoxiaogoutong2_Mean)"
   ]
  },
  {
   "cell_type": "markdown",
   "metadata": {},
   "source": [
    "横向-团队凝结1-分数"
   ]
  },
  {
   "cell_type": "code",
   "execution_count": 1178,
   "metadata": {},
   "outputs": [],
   "source": [
    "hengxiang_tuanduiningjie1_score = hengxiang_tuanduiningjie1[['资格评分']].drop_duplicates()\n",
    "hengxiang_tuanduiningjie1_score_df = hengxiang_tuanduiningjie1_score.query('资格评分!=\"暂无\"').reset_index(drop=True)\n",
    "hengxiang_tuanduiningjie1_score_df\n",
    "hengxiang_tuanduiningjie1_score_df2 = hengxiang_tuanduiningjie1_score_df.fillna(0)\n",
    "hengxiang_tuanduiningjie1_score_df2\n",
    "hengxiang_tuanduiningjie1_score_df3 = hengxiang_tuanduiningjie1_score_df2.query('资格评分!=0').reset_index(drop=True)\n",
    "hengxiang_tuanduiningjie1_score_df3\n",
    "hengxiang_tuanduiningjie1_score_df3_L = len(hengxiang_tuanduiningjie1_score_df3)\n",
    "hengxiang_tuanduiningjie1_SUM = float(hengxiang_tuanduiningjie1_score_df3.sum())\n",
    "hengxiang_tuanduiningjie1_Mean = hengxiang_tuanduiningjie1_SUM/hengxiang_tuanduiningjie1_score_df3_L\n",
    "sheet1['G15'] = float(hengxiang_tuanduiningjie1_Mean)"
   ]
  },
  {
   "cell_type": "markdown",
   "metadata": {},
   "source": [
    "横向-团队凝结2-分数"
   ]
  },
  {
   "cell_type": "code",
   "execution_count": 1179,
   "metadata": {},
   "outputs": [],
   "source": [
    "hengxiang_tuanduiningjie2_score = hengxiang_tuanduiningjie2[['资格评分']].drop_duplicates()\n",
    "hengxiang_tuanduiningjie2_score_df = hengxiang_tuanduiningjie2_score.query('资格评分!=\"暂无\"').reset_index(drop=True)\n",
    "hengxiang_tuanduiningjie2_score_df\n",
    "hengxiang_tuanduiningjie2_score_df2 = hengxiang_tuanduiningjie2_score_df.fillna(0)\n",
    "hengxiang_tuanduiningjie2_score_df2\n",
    "hengxiang_tuanduiningjie2_score_df3 = hengxiang_tuanduiningjie2_score_df2.query('资格评分!=0').reset_index(drop=True)\n",
    "hengxiang_tuanduiningjie2_score_df3\n",
    "hengxiang_tuanduiningjie2_score_df3_L = len(hengxiang_tuanduiningjie2_score_df3)\n",
    "hengxiang_tuanduiningjie2_SUM = float(hengxiang_tuanduiningjie2_score_df3.sum())\n",
    "hengxiang_tuanduiningjie2_Mean = hengxiang_tuanduiningjie2_SUM/hengxiang_tuanduiningjie2_score_df3_L\n",
    "sheet1['G16'] = float(hengxiang_tuanduiningjie2_Mean)"
   ]
  },
  {
   "cell_type": "markdown",
   "metadata": {},
   "source": [
    "横向-员工培育1-分数"
   ]
  },
  {
   "cell_type": "code",
   "execution_count": 1180,
   "metadata": {},
   "outputs": [],
   "source": [
    "hengxiang_yuangongpeiyu1_score = hengxiang_yuangongpeiyu1[['资格评分']].drop_duplicates()\n",
    "hengxiang_yuangongpeiyu1_score_df = hengxiang_yuangongpeiyu1_score.query('资格评分!=\"暂无\"').reset_index(drop=True)\n",
    "hengxiang_yuangongpeiyu1_score_df\n",
    "hengxiang_yuangongpeiyu1_score_df2 = hengxiang_yuangongpeiyu1_score_df.fillna(0)\n",
    "hengxiang_yuangongpeiyu1_score_df2\n",
    "hengxiang_yuangongpeiyu1_score_df3 = hengxiang_yuangongpeiyu1_score_df2.query('资格评分!=0').reset_index(drop=True)\n",
    "hengxiang_yuangongpeiyu1_score_df3\n",
    "hengxiang_yuangongpeiyu1_score_df3_L = len(hengxiang_yuangongpeiyu1_score_df3)\n",
    "hengxiang_yuangongpeiyu1_SUM = float(hengxiang_yuangongpeiyu1_score_df3.sum())\n",
    "hengxiang_yuangongpeiyu1_Mean = hengxiang_yuangongpeiyu1_SUM/hengxiang_yuangongpeiyu1_score_df3_L\n",
    "sheet1['G17'] = float(hengxiang_yuangongpeiyu1_Mean)"
   ]
  },
  {
   "cell_type": "markdown",
   "metadata": {},
   "source": [
    "横向-员工培育2-分数"
   ]
  },
  {
   "cell_type": "code",
   "execution_count": 1181,
   "metadata": {},
   "outputs": [],
   "source": [
    "hengxiang_yuangongpeiyu2_score = hengxiang_yuangongpeiyu2[['资格评分']].drop_duplicates()\n",
    "hengxiang_yuangongpeiyu2_score_df = hengxiang_yuangongpeiyu2_score.query('资格评分!=\"暂无\"').reset_index(drop=True)\n",
    "hengxiang_yuangongpeiyu2_score_df\n",
    "hengxiang_yuangongpeiyu2_score_df2 = hengxiang_yuangongpeiyu2_score_df.fillna(0)\n",
    "hengxiang_yuangongpeiyu2_score_df2\n",
    "hengxiang_yuangongpeiyu2_score_df3 = hengxiang_yuangongpeiyu2_score_df2.query('资格评分!=0').reset_index(drop=True)\n",
    "hengxiang_yuangongpeiyu2_score_df3\n",
    "hengxiang_yuangongpeiyu2_score_df3_L = len(hengxiang_yuangongpeiyu2_score_df3)\n",
    "hengxiang_yuangongpeiyu2_SUM = float(hengxiang_yuangongpeiyu2_score_df3.sum())\n",
    "hengxiang_yuangongpeiyu2_Mean = hengxiang_yuangongpeiyu2_SUM/hengxiang_yuangongpeiyu2_score_df3_L\n",
    "sheet1['G18'] = float(hengxiang_yuangongpeiyu2_Mean)"
   ]
  },
  {
   "cell_type": "markdown",
   "metadata": {},
   "source": [
    "横向-价值观1-分数"
   ]
  },
  {
   "cell_type": "code",
   "execution_count": 1182,
   "metadata": {},
   "outputs": [],
   "source": [
    "hengxiang_jiazhiguan1_score = hengxiang_jiazhiguan1[['资格评分']].drop_duplicates()\n",
    "hengxiang_jiazhiguan1_score_df = hengxiang_jiazhiguan1_score.query('资格评分!=\"暂无\"').reset_index(drop=True)\n",
    "hengxiang_jiazhiguan1_score_df\n",
    "hengxiang_jiazhiguan1_score_df2 = hengxiang_jiazhiguan1_score_df.fillna(0)\n",
    "hengxiang_jiazhiguan1_score_df2\n",
    "hengxiang_jiazhiguan1_score_df3 = hengxiang_jiazhiguan1_score_df2.query('资格评分!=0').reset_index(drop=True)\n",
    "hengxiang_jiazhiguan1_score_df3\n",
    "hengxiang_jiazhiguan1_score_df3_L = len(hengxiang_jiazhiguan1_score_df3)\n",
    "hengxiang_jiazhiguan1_SUM = float(hengxiang_jiazhiguan1_score_df3.sum())\n",
    "hengxiang_jiazhiguan1_Mean = hengxiang_jiazhiguan1_SUM/hengxiang_jiazhiguan1_score_df3_L\n",
    "sheet1['G19'] = float(hengxiang_jiazhiguan1_Mean)"
   ]
  },
  {
   "cell_type": "markdown",
   "metadata": {},
   "source": [
    "横向-价值观2-分数"
   ]
  },
  {
   "cell_type": "code",
   "execution_count": 1183,
   "metadata": {},
   "outputs": [],
   "source": [
    "hengxiang_jiazhiguan2_score = hengxiang_jiazhiguan2[['资格评分']].drop_duplicates()\n",
    "hengxiang_jiazhiguan2_score_df = hengxiang_jiazhiguan2_score.query('资格评分!=\"暂无\"').reset_index(drop=True)\n",
    "hengxiang_jiazhiguan2_score_df\n",
    "hengxiang_jiazhiguan2_score_df2 = hengxiang_jiazhiguan2_score_df.fillna(0)\n",
    "hengxiang_jiazhiguan2_score_df2\n",
    "hengxiang_jiazhiguan2_score_df3 = hengxiang_jiazhiguan2_score_df2.query('资格评分!=0').reset_index(drop=True)\n",
    "hengxiang_jiazhiguan2_score_df3\n",
    "hengxiang_jiazhiguan2_score_df3_L = len(hengxiang_jiazhiguan2_score_df3)\n",
    "hengxiang_jiazhiguan2_SUM = float(hengxiang_jiazhiguan2_score_df3.sum())\n",
    "hengxiang_jiazhiguan2_Mean = hengxiang_jiazhiguan2_SUM/hengxiang_jiazhiguan2_score_df3_L\n",
    "sheet1['G20'] = float(hengxiang_jiazhiguan2_Mean)"
   ]
  },
  {
   "cell_type": "markdown",
   "metadata": {},
   "source": [
    "横向-价值观3-分数"
   ]
  },
  {
   "cell_type": "code",
   "execution_count": 1184,
   "metadata": {},
   "outputs": [],
   "source": [
    "hengxiang_jiazhiguan3_score = hengxiang_jiazhiguan3[['资格评分']].drop_duplicates()\n",
    "hengxiang_jiazhiguan3_score_df = hengxiang_jiazhiguan3_score.query('资格评分!=\"暂无\"').reset_index(drop=True)\n",
    "hengxiang_jiazhiguan3_score_df\n",
    "hengxiang_jiazhiguan3_score_df2 = hengxiang_jiazhiguan3_score_df.fillna(0)\n",
    "hengxiang_jiazhiguan3_score_df2\n",
    "hengxiang_jiazhiguan3_score_df3 = hengxiang_jiazhiguan3_score_df2.query('资格评分!=0').reset_index(drop=True)\n",
    "hengxiang_jiazhiguan3_score_df3\n",
    "hengxiang_jiazhiguan3_score_df3_L = len(hengxiang_jiazhiguan3_score_df3)\n",
    "hengxiang_jiazhiguan3_SUM = float(hengxiang_jiazhiguan3_score_df3.sum())\n",
    "hengxiang_jiazhiguan3_Mean = hengxiang_jiazhiguan3_SUM/hengxiang_jiazhiguan3_score_df3_L\n",
    "sheet1['G21'] = float(hengxiang_jiazhiguan3_Mean)"
   ]
  },
  {
   "cell_type": "markdown",
   "metadata": {},
   "source": [
    "横向-价值观4-分数"
   ]
  },
  {
   "cell_type": "code",
   "execution_count": 1185,
   "metadata": {},
   "outputs": [],
   "source": [
    "hengxiang_jiazhiguan4_score = hengxiang_jiazhiguan4[['资格评分']].drop_duplicates()\n",
    "hengxiang_jiazhiguan4_score_df = hengxiang_jiazhiguan4_score.query('资格评分!=\"暂无\"').reset_index(drop=True)\n",
    "hengxiang_jiazhiguan4_score_df\n",
    "hengxiang_jiazhiguan4_score_df2 = hengxiang_jiazhiguan4_score_df.fillna(0)\n",
    "hengxiang_jiazhiguan4_score_df2\n",
    "hengxiang_jiazhiguan4_score_df3 = hengxiang_jiazhiguan4_score_df2.query('资格评分!=0').reset_index(drop=True)\n",
    "hengxiang_jiazhiguan4_score_df3\n",
    "hengxiang_jiazhiguan4_score_df3_L = len(hengxiang_jiazhiguan4_score_df3)\n",
    "hengxiang_jiazhiguan4_SUM = float(hengxiang_jiazhiguan4_score_df3.sum())\n",
    "hengxiang_jiazhiguan4_Mean = hengxiang_jiazhiguan4_SUM/hengxiang_jiazhiguan4_score_df3_L\n",
    "sheet1['G22'] = float(hengxiang_jiazhiguan4_Mean)"
   ]
  },
  {
   "cell_type": "markdown",
   "metadata": {},
   "source": [
    "横向-政治标准1-分数"
   ]
  },
  {
   "cell_type": "code",
   "execution_count": 1186,
   "metadata": {},
   "outputs": [],
   "source": [
    "hengxiang_zhengzhibiaozhun1_score = hengxiang_zhengzhibiaozhun1[['资格评分']].drop_duplicates()\n",
    "hengxiang_zhengzhibiaozhun1_score_df = hengxiang_zhengzhibiaozhun1_score.query('资格评分!=\"暂无\"').reset_index(drop=True)\n",
    "hengxiang_zhengzhibiaozhun1_score_df\n",
    "hengxiang_zhengzhibiaozhun1_score_df2 = hengxiang_zhengzhibiaozhun1_score_df.fillna(0)\n",
    "hengxiang_zhengzhibiaozhun1_score_df2\n",
    "hengxiang_zhengzhibiaozhun1_score_df3 = hengxiang_zhengzhibiaozhun1_score_df2.query('资格评分!=0').reset_index(drop=True)\n",
    "hengxiang_zhengzhibiaozhun1_score_df3\n",
    "hengxiang_zhengzhibiaozhun1_score_df3_L = len(hengxiang_zhengzhibiaozhun1_score_df3)\n",
    "hengxiang_zhengzhibiaozhun1_SUM = float(hengxiang_zhengzhibiaozhun1_score_df3.sum())\n",
    "hengxiang_zhengzhibiaozhun1_Mean = hengxiang_zhengzhibiaozhun1_SUM/hengxiang_zhengzhibiaozhun1_score_df3_L\n",
    "sheet1['G23'] = float(hengxiang_zhengzhibiaozhun1_Mean)"
   ]
  },
  {
   "cell_type": "markdown",
   "metadata": {},
   "source": [
    "横向-政治标准2-分数"
   ]
  },
  {
   "cell_type": "code",
   "execution_count": 1187,
   "metadata": {},
   "outputs": [],
   "source": [
    "hengxiang_zhengzhibiaozhun2_score = hengxiang_zhengzhibiaozhun2[['资格评分']].drop_duplicates()\n",
    "hengxiang_zhengzhibiaozhun2_score_df = hengxiang_zhengzhibiaozhun2_score.query('资格评分!=\"暂无\"').reset_index(drop=True)\n",
    "hengxiang_zhengzhibiaozhun2_score_df\n",
    "hengxiang_zhengzhibiaozhun2_score_df2 = hengxiang_zhengzhibiaozhun2_score_df.fillna(0)\n",
    "hengxiang_zhengzhibiaozhun2_score_df2\n",
    "hengxiang_zhengzhibiaozhun2_score_df3 = hengxiang_zhengzhibiaozhun2_score_df2.query('资格评分!=0').reset_index(drop=True)\n",
    "hengxiang_zhengzhibiaozhun2_score_df3\n",
    "hengxiang_zhengzhibiaozhun2_score_df3_L = len(hengxiang_zhengzhibiaozhun2_score_df3)\n",
    "hengxiang_zhengzhibiaozhun2_SUM = float(hengxiang_zhengzhibiaozhun2_score_df3.sum())\n",
    "hengxiang_zhengzhibiaozhun2_Mean = hengxiang_zhengzhibiaozhun2_SUM/hengxiang_zhengzhibiaozhun2_score_df3_L\n",
    "sheet1['G24'] = float(hengxiang_zhengzhibiaozhun2_Mean)"
   ]
  },
  {
   "cell_type": "markdown",
   "metadata": {},
   "source": [
    "横向-政治标准3-分数"
   ]
  },
  {
   "cell_type": "code",
   "execution_count": 1188,
   "metadata": {},
   "outputs": [],
   "source": [
    "hengxiang_zhengzhibiaozhun3_score = hengxiang_zhengzhibiaozhun3[['资格评分']].drop_duplicates()\n",
    "hengxiang_zhengzhibiaozhun3_score_df = hengxiang_zhengzhibiaozhun3_score.query('资格评分!=\"暂无\"').reset_index(drop=True)\n",
    "hengxiang_zhengzhibiaozhun3_score_df\n",
    "hengxiang_zhengzhibiaozhun3_score_df2 = hengxiang_zhengzhibiaozhun3_score_df.fillna(0)\n",
    "hengxiang_zhengzhibiaozhun3_score_df2\n",
    "hengxiang_zhengzhibiaozhun3_score_df3 = hengxiang_zhengzhibiaozhun3_score_df2.query('资格评分!=0').reset_index(drop=True)\n",
    "hengxiang_zhengzhibiaozhun3_score_df3\n",
    "hengxiang_zhengzhibiaozhun3_score_df3_L = len(hengxiang_zhengzhibiaozhun3_score_df3)\n",
    "hengxiang_zhengzhibiaozhun3_SUM = float(hengxiang_zhengzhibiaozhun3_score_df3.sum())\n",
    "hengxiang_zhengzhibiaozhun3_Mean = hengxiang_zhengzhibiaozhun3_SUM/hengxiang_zhengzhibiaozhun3_score_df3_L\n",
    "sheet1['G25'] = float(hengxiang_zhengzhibiaozhun3_Mean)"
   ]
  },
  {
   "cell_type": "markdown",
   "metadata": {},
   "source": [
    "横向-政治标准4-分数"
   ]
  },
  {
   "cell_type": "code",
   "execution_count": 1189,
   "metadata": {},
   "outputs": [],
   "source": [
    "hengxiang_zhengzhibiaozhun4_score = hengxiang_zhengzhibiaozhun4[['资格评分']].drop_duplicates()\n",
    "hengxiang_zhengzhibiaozhun4_score_df = hengxiang_zhengzhibiaozhun4_score.query('资格评分!=\"暂无\"').reset_index(drop=True)\n",
    "hengxiang_zhengzhibiaozhun4_score_df\n",
    "hengxiang_zhengzhibiaozhun4_score_df2 = hengxiang_zhengzhibiaozhun4_score_df.fillna(0)\n",
    "hengxiang_zhengzhibiaozhun4_score_df2\n",
    "hengxiang_zhengzhibiaozhun4_score_df3 = hengxiang_zhengzhibiaozhun4_score_df2.query('资格评分!=0').reset_index(drop=True)\n",
    "hengxiang_zhengzhibiaozhun4_score_df3\n",
    "hengxiang_zhengzhibiaozhun4_score_df3_L = len(hengxiang_zhengzhibiaozhun4_score_df3)\n",
    "hengxiang_zhengzhibiaozhun4_SUM = float(hengxiang_zhengzhibiaozhun4_score_df3.sum())\n",
    "hengxiang_zhengzhibiaozhun4_Mean = hengxiang_zhengzhibiaozhun4_SUM/hengxiang_zhengzhibiaozhun1_score_df3_L\n",
    "sheet1['G26'] = float(hengxiang_zhengzhibiaozhun4_Mean)"
   ]
  },
  {
   "cell_type": "markdown",
   "metadata": {},
   "source": [
    "# 上级&党委"
   ]
  },
  {
   "cell_type": "code",
   "execution_count": 1190,
   "metadata": {},
   "outputs": [],
   "source": [
    "shangji_jihuayuzhixing1 = shangji.query('资格姓名==\"计划与执行-1\"')\n",
    "shangji_jihuayuzhixing2 = shangji.query('资格姓名==\"计划与执行-2\"')"
   ]
  },
  {
   "cell_type": "code",
   "execution_count": 1191,
   "metadata": {},
   "outputs": [],
   "source": [
    "shangji_fenxigaishan1 = shangji.query('资格姓名==\"分析改善-1\"')\n",
    "shangji_fenxigaishan2 = shangji.query('资格姓名==\"分析改善-2\"')"
   ]
  },
  {
   "cell_type": "code",
   "execution_count": 1192,
   "metadata": {},
   "outputs": [],
   "source": [
    "shangji_liuchengshishi1 = shangji.query('资格姓名==\"流程实施-1\"')\n",
    "shangji_liuchengshishi2 = shangji.query('资格姓名==\"流程实施-2\"')"
   ]
  },
  {
   "cell_type": "code",
   "execution_count": 1193,
   "metadata": {},
   "outputs": [],
   "source": [
    "shangji_gaoxiaogoutong1 = shangji.query('资格姓名==\"高效沟通-1\"')\n",
    "shangji_gaoxiaogoutong2 = shangji.query('资格姓名==\"高效沟通-2\"')"
   ]
  },
  {
   "cell_type": "code",
   "execution_count": 1194,
   "metadata": {},
   "outputs": [],
   "source": [
    "shangji_tuanduiningjie1 = shangji.query('资格姓名==\"团队凝聚-1\"')\n",
    "shangji_tuanduiningjie2 = shangji.query('资格姓名==\"团队凝聚-2\"')"
   ]
  },
  {
   "cell_type": "code",
   "execution_count": 1195,
   "metadata": {},
   "outputs": [],
   "source": [
    "shangji_yuangongpeiyu1  = shangji.query('资格姓名==\"员工培育-1\"')\n",
    "shangji_yuangongpeiyu2  = shangji.query('资格姓名==\"员工培育-2\"')"
   ]
  },
  {
   "cell_type": "code",
   "execution_count": 1196,
   "metadata": {},
   "outputs": [],
   "source": [
    "shangji_jiazhiguan1 = shangji.query('资格姓名==\"价值观-1\"')\n",
    "shangji_jiazhiguan2 = shangji.query('资格姓名==\"价值观-2\"')\n",
    "shangji_jiazhiguan3 = shangji.query('资格姓名==\"价值观-3\"')\n",
    "shangji_jiazhiguan4 = shangji.query('资格姓名==\"价值观-4\"')"
   ]
  },
  {
   "cell_type": "code",
   "execution_count": 1197,
   "metadata": {},
   "outputs": [],
   "source": [
    "shangji_zhengzhibiaozhun1 = shangji.query('资格姓名==\"政治标准-1\"')\n",
    "shangji_zhengzhibiaozhun2 = shangji.query('资格姓名==\"政治标准-2\"')\n",
    "shangji_zhengzhibiaozhun3 = shangji.query('资格姓名==\"政治标准-3\"')\n",
    "shangji_zhengzhibiaozhun4 = shangji.query('资格姓名==\"政治标准-4\"')"
   ]
  },
  {
   "cell_type": "markdown",
   "metadata": {},
   "source": [
    "上级&党委-计划与执行1-分数"
   ]
  },
  {
   "cell_type": "code",
   "execution_count": 1198,
   "metadata": {},
   "outputs": [],
   "source": [
    "shangji_jihuayuzhixing1_score = shangji_jihuayuzhixing1[['资格评分']].drop_duplicates()\n",
    "shangji_jihuayuzhixing1_score_df = shangji_jihuayuzhixing1_score.query('资格评分!=\"暂无\"').reset_index(drop=True)\n",
    "shangji_jihuayuzhixing1_score_df\n",
    "shangji_jihuayuzhixing1_score_df2 = shangji_jihuayuzhixing1_score_df.fillna(0)\n",
    "shangji_jihuayuzhixing1_score_df2\n",
    "shangji_jihuayuzhixing1_score_df3 = shangji_jihuayuzhixing1_score_df2.query('资格评分!=0').reset_index(drop=True)\n",
    "shangji_jihuayuzhixing1_score_df3\n",
    "shangji_jihuayuzhixing1_score_df3_L = len(shangji_jihuayuzhixing1_score_df3)\n",
    "shangji_jihuayuzhixing1_SUM = float(shangji_jihuayuzhixing1_score_df3.sum())\n",
    "shangji_jihuayuzhixing1_Mean = shangji_jihuayuzhixing1_SUM/shangji_jihuayuzhixing1_score_df3_L\n",
    "sheet1['E7'] = float(hengxiang_jihuayuzhixing1_Mean)"
   ]
  },
  {
   "cell_type": "markdown",
   "metadata": {},
   "source": [
    "上级&党委-计划与执行2-分数"
   ]
  },
  {
   "cell_type": "code",
   "execution_count": 1199,
   "metadata": {},
   "outputs": [],
   "source": [
    "shangji_jihuayuzhixing2_score = shangji_jihuayuzhixing2[['资格评分']].drop_duplicates()\n",
    "shangji_jihuayuzhixing2_score_df = shangji_jihuayuzhixing2_score.query('资格评分!=\"暂无\"').reset_index(drop=True)\n",
    "shangji_jihuayuzhixing2_score_df\n",
    "shangji_jihuayuzhixing2_score_df2 = shangji_jihuayuzhixing2_score_df.fillna(0)\n",
    "shangji_jihuayuzhixing2_score_df2\n",
    "shangji_jihuayuzhixing2_score_df3 = shangji_jihuayuzhixing2_score_df2.query('资格评分!=0').reset_index(drop=True)\n",
    "shangji_jihuayuzhixing2_score_df3\n",
    "shangji_jihuayuzhixing2_score_df3_L = len(shangji_jihuayuzhixing2_score_df3)\n",
    "shangji_jihuayuzhixing2_SUM = float(shangji_jihuayuzhixing2_score_df3.sum())\n",
    "shangji_jihuayuzhixing2_Mean = shangji_jihuayuzhixing1_SUM/shangji_jihuayuzhixing2_score_df3_L\n",
    "sheet1['E8'] = float(hengxiang_jihuayuzhixing2_Mean)"
   ]
  },
  {
   "cell_type": "markdown",
   "metadata": {},
   "source": [
    "上级&党委-分析改善1-分数"
   ]
  },
  {
   "cell_type": "code",
   "execution_count": 1200,
   "metadata": {},
   "outputs": [],
   "source": [
    "shangji_fenxigaishan1_score = shangji_fenxigaishan1[['资格评分']].drop_duplicates()\n",
    "shangji_fenxigaishan1_score_df = shangji_fenxigaishan1_score.query('资格评分!=\"暂无\"').reset_index(drop=True)\n",
    "shangji_fenxigaishan1_score_df\n",
    "shangji_fenxigaishan1_score_df2 = shangji_fenxigaishan1_score_df.fillna(0)\n",
    "shangji_fenxigaishan1_score_df2\n",
    "shangji_fenxigaishan1_score_df3 = shangji_fenxigaishan1_score_df2.query('资格评分!=0').reset_index(drop=True)\n",
    "shangji_fenxigaishan1_score_df3\n",
    "shangji_fenxigaishan1_score_df3_L = len(shangji_fenxigaishan1_score_df3)\n",
    "shangji_fenxigaishan1_SUM = float(shangji_fenxigaishan1_score_df3.sum())\n",
    "shangji_fenxigaishan1_Mean = shangji_fenxigaishan1_SUM/shangji_fenxigaishan1_score_df3_L\n",
    "sheet1['E9'] = float(shangji_fenxigaishan1_Mean)"
   ]
  },
  {
   "cell_type": "markdown",
   "metadata": {},
   "source": [
    "上级&党委-分析改善2-分数"
   ]
  },
  {
   "cell_type": "code",
   "execution_count": 1201,
   "metadata": {},
   "outputs": [],
   "source": [
    "shangji_fenxigaishan2_score = shangji_fenxigaishan2[['资格评分']].drop_duplicates()\n",
    "shangji_fenxigaishan2_score_df = shangji_fenxigaishan2_score.query('资格评分!=\"暂无\"').reset_index(drop=True)\n",
    "shangji_fenxigaishan2_score_df\n",
    "shangji_fenxigaishan2_score_df2 = shangji_fenxigaishan2_score_df.fillna(0)\n",
    "shangji_fenxigaishan2_score_df2\n",
    "shangji_fenxigaishan2_score_df3 = shangji_fenxigaishan2_score_df2.query('资格评分!=0').reset_index(drop=True)\n",
    "shangji_fenxigaishan2_score_df3\n",
    "shangji_fenxigaishan2_score_df3_L = len(shangji_fenxigaishan2_score_df3)\n",
    "shangji_fenxigaishan2_SUM = float(shangji_fenxigaishan2_score_df3.sum())\n",
    "shangji_fenxigaishan2_Mean = shangji_fenxigaishan2_SUM/shangji_fenxigaishan2_score_df3_L\n",
    "sheet1['E10'] = float(shangji_fenxigaishan2_Mean)"
   ]
  },
  {
   "cell_type": "markdown",
   "metadata": {},
   "source": [
    "上级&党委-流程实施1-分数"
   ]
  },
  {
   "cell_type": "code",
   "execution_count": 1202,
   "metadata": {},
   "outputs": [],
   "source": [
    "shangji_liuchengshishi1_score = shangji_liuchengshishi1[['资格评分']].drop_duplicates()\n",
    "shangji_liuchengshishi1_score_df = shangji_liuchengshishi1_score.query('资格评分!=\"暂无\"').reset_index(drop=True)\n",
    "shangji_liuchengshishi1_score_df\n",
    "shangji_liuchengshishi1_score_df2 = shangji_liuchengshishi1_score_df.fillna(0)\n",
    "shangji_liuchengshishi1_score_df2\n",
    "shangji_liuchengshishi1_score_df3 = shangji_liuchengshishi1_score_df2.query('资格评分!=0').reset_index(drop=True)\n",
    "shangji_liuchengshishi1_score_df3\n",
    "shangji_liuchengshishi1_score_df3_L = len(shangji_liuchengshishi1_score_df3)\n",
    "shangji_liuchengshishi1_SUM = float(shangji_liuchengshishi1_score_df3.sum())\n",
    "shangji_liuchengshishi1_Mean = shangji_liuchengshishi1_SUM/shangji_liuchengshishi1_score_df3_L\n",
    "sheet1['E11'] = float(shangji_liuchengshishi1_Mean)"
   ]
  },
  {
   "cell_type": "markdown",
   "metadata": {},
   "source": [
    "上级&党委-流程实施2-分数"
   ]
  },
  {
   "cell_type": "code",
   "execution_count": 1203,
   "metadata": {},
   "outputs": [],
   "source": [
    "shangji_liuchengshishi2_score = shangji_liuchengshishi2[['资格评分']].drop_duplicates()\n",
    "shangji_liuchengshishi2_score_df = shangji_liuchengshishi2_score.query('资格评分!=\"暂无\"').reset_index(drop=True)\n",
    "shangji_liuchengshishi2_score_df\n",
    "shangji_liuchengshishi2_score_df2 = shangji_liuchengshishi2_score_df.fillna(0)\n",
    "shangji_liuchengshishi2_score_df2\n",
    "shangji_liuchengshishi2_score_df3 = shangji_liuchengshishi2_score_df2.query('资格评分!=0').reset_index(drop=True)\n",
    "shangji_liuchengshishi2_score_df3\n",
    "shangji_liuchengshishi2_score_df3_L = len(shangji_liuchengshishi2_score_df3)\n",
    "shangji_liuchengshishi2_SUM = float(shangji_liuchengshishi2_score_df3.sum())\n",
    "shangji_liuchengshishi2_Mean = shangji_liuchengshishi2_SUM/shangji_liuchengshishi2_score_df3_L\n",
    "sheet1['E12'] = float(shangji_liuchengshishi2_Mean)"
   ]
  },
  {
   "cell_type": "markdown",
   "metadata": {},
   "source": [
    "上级&党委-高效沟通1-分数"
   ]
  },
  {
   "cell_type": "code",
   "execution_count": 1204,
   "metadata": {},
   "outputs": [],
   "source": [
    "shangji_gaoxiaogoutong1_score = shangji_gaoxiaogoutong1[['资格评分']].drop_duplicates()\n",
    "shangji_gaoxiaogoutong1_score_df = shangji_gaoxiaogoutong1_score.query('资格评分!=\"暂无\"').reset_index(drop=True)\n",
    "shangji_gaoxiaogoutong1_score_df\n",
    "shangji_gaoxiaogoutong1_score_df2 = shangji_gaoxiaogoutong1_score_df.fillna(0)\n",
    "shangji_gaoxiaogoutong1_score_df2\n",
    "shangji_gaoxiaogoutong1_score_df3 = shangji_gaoxiaogoutong1_score_df2.query('资格评分!=0').reset_index(drop=True)\n",
    "shangji_gaoxiaogoutong1_score_df3\n",
    "shangji_gaoxiaogoutong1_score_df3_L = len(shangji_gaoxiaogoutong1_score_df3)\n",
    "shangji_gaoxiaogoutong1_SUM = float(shangji_gaoxiaogoutong1_score_df3.sum())\n",
    "shangji_gaoxiaogoutong1_Mean = shangji_gaoxiaogoutong1_SUM/shangji_gaoxiaogoutong1_score_df3_L\n",
    "sheet1['E13'] = float(shangji_gaoxiaogoutong1_Mean)"
   ]
  },
  {
   "cell_type": "markdown",
   "metadata": {},
   "source": [
    "上级&党委-高效沟通2-分数"
   ]
  },
  {
   "cell_type": "code",
   "execution_count": 1205,
   "metadata": {},
   "outputs": [],
   "source": [
    "shangji_gaoxiaogoutong2_score = shangji_gaoxiaogoutong2[['资格评分']].drop_duplicates()\n",
    "shangji_gaoxiaogoutong2_score_df = shangji_gaoxiaogoutong2_score.query('资格评分!=\"暂无\"').reset_index(drop=True)\n",
    "shangji_gaoxiaogoutong2_score_df\n",
    "shangji_gaoxiaogoutong2_score_df2 = shangji_gaoxiaogoutong2_score_df.fillna(0)\n",
    "shangji_gaoxiaogoutong2_score_df2\n",
    "shangji_gaoxiaogoutong2_score_df3 = shangji_gaoxiaogoutong2_score_df2.query('资格评分!=0').reset_index(drop=True)\n",
    "shangji_gaoxiaogoutong2_score_df3\n",
    "shangji_gaoxiaogoutong2_score_df3_L = len(shangji_gaoxiaogoutong2_score_df3)\n",
    "shangji_gaoxiaogoutong2_SUM = float(shangji_gaoxiaogoutong2_score_df3.sum())\n",
    "shangji_gaoxiaogoutong2_Mean = shangji_gaoxiaogoutong2_SUM/shangji_gaoxiaogoutong2_score_df3_L\n",
    "sheet1['E14'] = float(shangji_gaoxiaogoutong2_Mean)"
   ]
  },
  {
   "cell_type": "markdown",
   "metadata": {},
   "source": [
    "上级&党委-团队凝结1-分数"
   ]
  },
  {
   "cell_type": "code",
   "execution_count": 1206,
   "metadata": {},
   "outputs": [],
   "source": [
    "shangji_tuanduiningjie1_score = shangji_tuanduiningjie1[['资格评分']].drop_duplicates()\n",
    "shangji_tuanduiningjie1_score_df = shangji_tuanduiningjie1_score.query('资格评分!=\"暂无\"').reset_index(drop=True)\n",
    "shangji_tuanduiningjie1_score_df\n",
    "shangji_tuanduiningjie1_score_df2 = shangji_tuanduiningjie1_score_df.fillna(0)\n",
    "shangji_tuanduiningjie1_score_df2\n",
    "shangji_tuanduiningjie1_score_df3 = shangji_tuanduiningjie1_score_df2.query('资格评分!=0').reset_index(drop=True)\n",
    "shangji_tuanduiningjie1_score_df3\n",
    "shangji_tuanduiningjie1_score_df3_L = len(shangji_tuanduiningjie1_score_df3)\n",
    "shangji_tuanduiningjie1_SUM = float(shangji_tuanduiningjie1_score_df3.sum())\n",
    "shangji_tuanduiningjie1_Mean = shangji_tuanduiningjie1_SUM/shangji_tuanduiningjie1_score_df3_L\n",
    "sheet1['E15'] = float(shangji_tuanduiningjie1_Mean)"
   ]
  },
  {
   "cell_type": "markdown",
   "metadata": {},
   "source": [
    "上级&党委-团队凝结2-分数"
   ]
  },
  {
   "cell_type": "code",
   "execution_count": 1207,
   "metadata": {},
   "outputs": [],
   "source": [
    "shangji_tuanduiningjie2_score = shangji_tuanduiningjie2[['资格评分']].drop_duplicates()\n",
    "shangji_tuanduiningjie2_score_df = shangji_tuanduiningjie2_score.query('资格评分!=\"暂无\"').reset_index(drop=True)\n",
    "shangji_tuanduiningjie2_score_df\n",
    "shangji_tuanduiningjie2_score_df2 = shangji_tuanduiningjie2_score_df.fillna(0)\n",
    "shangji_tuanduiningjie2_score_df2\n",
    "shangji_tuanduiningjie2_score_df3 = shangji_tuanduiningjie2_score_df2.query('资格评分!=0').reset_index(drop=True)\n",
    "shangji_tuanduiningjie2_score_df3\n",
    "shangji_tuanduiningjie2_score_df3_L = len(shangji_tuanduiningjie2_score_df3)\n",
    "shangji_tuanduiningjie2_SUM = float(shangji_tuanduiningjie2_score_df3.sum())\n",
    "shangji_tuanduiningjie2_Mean = shangji_tuanduiningjie2_SUM/shangji_tuanduiningjie2_score_df3_L\n",
    "sheet1['E16'] = float(shangji_tuanduiningjie2_Mean)"
   ]
  },
  {
   "cell_type": "markdown",
   "metadata": {},
   "source": [
    "上级&党委-员工培育1-分数"
   ]
  },
  {
   "cell_type": "code",
   "execution_count": 1208,
   "metadata": {},
   "outputs": [],
   "source": [
    "shangji_yuangongpeiyu1_score = shangji_yuangongpeiyu1[['资格评分']].drop_duplicates()\n",
    "shangji_yuangongpeiyu1_score_df = shangji_yuangongpeiyu1_score.query('资格评分!=\"暂无\"').reset_index(drop=True)\n",
    "shangji_yuangongpeiyu1_score_df\n",
    "shangji_yuangongpeiyu1_score_df2 = shangji_yuangongpeiyu1_score_df.fillna(0)\n",
    "shangji_yuangongpeiyu1_score_df2\n",
    "shangji_yuangongpeiyu1_score_df3 = shangji_yuangongpeiyu1_score_df2.query('资格评分!=0').reset_index(drop=True)\n",
    "shangji_yuangongpeiyu1_score_df3\n",
    "shangji_yuangongpeiyu1_score_df3_L = len(shangji_yuangongpeiyu1_score_df3)\n",
    "shangji_yuangongpeiyu1_SUM = float(shangji_yuangongpeiyu1_score_df3.sum())\n",
    "shangji_yuangongpeiyu1_Mean = shangji_yuangongpeiyu1_SUM/shangji_yuangongpeiyu1_score_df3_L\n",
    "sheet1['E17'] = float(shangji_yuangongpeiyu1_Mean)"
   ]
  },
  {
   "cell_type": "markdown",
   "metadata": {},
   "source": [
    "上级&党委-员工培育2-分数"
   ]
  },
  {
   "cell_type": "code",
   "execution_count": 1209,
   "metadata": {},
   "outputs": [],
   "source": [
    "shangji_yuangongpeiyu2_score = shangji_yuangongpeiyu2[['资格评分']].drop_duplicates()\n",
    "shangji_yuangongpeiyu2_score_df = shangji_yuangongpeiyu2_score.query('资格评分!=\"暂无\"').reset_index(drop=True)\n",
    "shangji_yuangongpeiyu2_score_df\n",
    "shangji_yuangongpeiyu2_score_df2 = shangji_yuangongpeiyu2_score_df.fillna(0)\n",
    "shangji_yuangongpeiyu2_score_df2\n",
    "shangji_yuangongpeiyu2_score_df3 = shangji_yuangongpeiyu2_score_df2.query('资格评分!=0').reset_index(drop=True)\n",
    "shangji_yuangongpeiyu2_score_df3\n",
    "shangji_yuangongpeiyu2_score_df3_L = len(shangji_yuangongpeiyu2_score_df3)\n",
    "shangji_yuangongpeiyu2_SUM = float(shangji_yuangongpeiyu2_score_df3.sum())\n",
    "shangji_yuangongpeiyu2_Mean = shangji_yuangongpeiyu2_SUM/shangji_yuangongpeiyu2_score_df3_L\n",
    "sheet1['E18'] = float(shangji_yuangongpeiyu2_Mean)"
   ]
  },
  {
   "cell_type": "markdown",
   "metadata": {},
   "source": [
    "上级&党委-价值观1-分数"
   ]
  },
  {
   "cell_type": "code",
   "execution_count": 1210,
   "metadata": {},
   "outputs": [],
   "source": [
    "shangji_jiazhiguan1_score = shangji_jiazhiguan1[['资格评分']].drop_duplicates()\n",
    "shangji_jiazhiguan1_score_df = shangji_jiazhiguan1_score.query('资格评分!=\"暂无\"').reset_index(drop=True)\n",
    "shangji_jiazhiguan1_score_df\n",
    "shangji_jiazhiguan1_score_df2 = shangji_jiazhiguan1_score_df.fillna(0)\n",
    "shangji_jiazhiguan1_score_df2\n",
    "shangji_jiazhiguan1_score_df3 = shangji_jiazhiguan1_score_df2.query('资格评分!=0').reset_index(drop=True)\n",
    "shangji_jiazhiguan1_score_df3\n",
    "shangji_jiazhiguan1_score_df3_L = len(shangji_jiazhiguan1_score_df3)\n",
    "shangji_jiazhiguan1_SUM = float(shangji_jiazhiguan1_score_df3.sum())\n",
    "shangji_jiazhiguan1_Mean = shangji_jiazhiguan1_SUM/shangji_jiazhiguan1_score_df3_L\n",
    "sheet1['E19'] = float(shangji_jiazhiguan1_Mean)"
   ]
  },
  {
   "cell_type": "markdown",
   "metadata": {},
   "source": [
    "上级&党委-价值观2-分数"
   ]
  },
  {
   "cell_type": "code",
   "execution_count": 1211,
   "metadata": {},
   "outputs": [],
   "source": [
    "shangji_jiazhiguan2_score = shangji_jiazhiguan2[['资格评分']].drop_duplicates()\n",
    "shangji_jiazhiguan2_score_df = shangji_jiazhiguan2_score.query('资格评分!=\"暂无\"').reset_index(drop=True)\n",
    "shangji_jiazhiguan2_score_df\n",
    "shangji_jiazhiguan2_score_df2 = shangji_jiazhiguan2_score_df.fillna(0)\n",
    "shangji_jiazhiguan2_score_df2\n",
    "shangji_jiazhiguan2_score_df3 = shangji_jiazhiguan2_score_df2.query('资格评分!=0').reset_index(drop=True)\n",
    "shangji_jiazhiguan2_score_df3\n",
    "shangji_jiazhiguan2_score_df3_L = len(shangji_jiazhiguan2_score_df3)\n",
    "shangji_jiazhiguan2_SUM = float(shangji_jiazhiguan2_score_df3.sum())\n",
    "shangji_jiazhiguan2_Mean = shangji_jiazhiguan2_SUM/shangji_jiazhiguan2_score_df3_L\n",
    "sheet1['E20'] = float(shangji_jiazhiguan2_Mean)"
   ]
  },
  {
   "cell_type": "markdown",
   "metadata": {},
   "source": [
    "上级&党委-价值观3-分数"
   ]
  },
  {
   "cell_type": "code",
   "execution_count": 1212,
   "metadata": {},
   "outputs": [],
   "source": [
    "shangji_jiazhiguan3_score = shangji_jiazhiguan3[['资格评分']].drop_duplicates()\n",
    "shangji_jiazhiguan3_score_df = shangji_jiazhiguan3_score.query('资格评分!=\"暂无\"').reset_index(drop=True)\n",
    "shangji_jiazhiguan3_score_df\n",
    "shangji_jiazhiguan3_score_df2 = shangji_jiazhiguan3_score_df.fillna(0)\n",
    "shangji_jiazhiguan3_score_df2\n",
    "shangji_jiazhiguan3_score_df3 = shangji_jiazhiguan3_score_df2.query('资格评分!=0').reset_index(drop=True)\n",
    "shangji_jiazhiguan3_score_df3\n",
    "shangji_jiazhiguan3_score_df3_L = len(shangji_jiazhiguan3_score_df3)\n",
    "shangji_jiazhiguan3_SUM = float(shangji_jiazhiguan3_score_df3.sum())\n",
    "shangji_jiazhiguan3_Mean = shangji_jiazhiguan3_SUM/shangji_jiazhiguan3_score_df3_L\n",
    "sheet1['E21'] = float(shangji_jiazhiguan3_Mean)"
   ]
  },
  {
   "cell_type": "markdown",
   "metadata": {},
   "source": [
    "上级&党委-价值观4-分数"
   ]
  },
  {
   "cell_type": "code",
   "execution_count": 1213,
   "metadata": {},
   "outputs": [],
   "source": [
    "shangji_jiazhiguan4_score = shangji_jiazhiguan4[['资格评分']].drop_duplicates()\n",
    "shangji_jiazhiguan4_score_df = shangji_jiazhiguan4_score.query('资格评分!=\"暂无\"').reset_index(drop=True)\n",
    "shangji_jiazhiguan4_score_df\n",
    "shangji_jiazhiguan4_score_df2 = shangji_jiazhiguan4_score_df.fillna(0)\n",
    "shangji_jiazhiguan4_score_df2\n",
    "shangji_jiazhiguan4_score_df3 = shangji_jiazhiguan4_score_df2.query('资格评分!=0').reset_index(drop=True)\n",
    "shangji_jiazhiguan4_score_df3\n",
    "shangji_jiazhiguan4_score_df3_L = len(shangji_jiazhiguan4_score_df3)\n",
    "shangji_jiazhiguan4_SUM = float(shangji_jiazhiguan4_score_df3.sum())\n",
    "shangji_jiazhiguan4_Mean = shangji_jiazhiguan4_SUM/shangji_jiazhiguan1_score_df3_L\n",
    "sheet1['E22'] = float(shangji_jiazhiguan4_Mean)"
   ]
  },
  {
   "cell_type": "markdown",
   "metadata": {},
   "source": [
    "上级&党委-政治标准1-分数"
   ]
  },
  {
   "cell_type": "code",
   "execution_count": 1214,
   "metadata": {},
   "outputs": [],
   "source": [
    "shangji_zhengzhibiaozhun1_score = shangji_zhengzhibiaozhun1[['资格评分']].drop_duplicates()\n",
    "shangji_zhengzhibiaozhun1_score_df = shangji_zhengzhibiaozhun1_score.query('资格评分!=\"暂无\"').reset_index(drop=True)\n",
    "shangji_zhengzhibiaozhun1_score_df\n",
    "shangji_zhengzhibiaozhun1_score_df2 = shangji_zhengzhibiaozhun1_score_df.fillna(0)\n",
    "shangji_zhengzhibiaozhun1_score_df2\n",
    "shangji_zhengzhibiaozhun1_score_df3 = shangji_zhengzhibiaozhun1_score_df2.query('资格评分!=0').reset_index(drop=True)\n",
    "shangji_zhengzhibiaozhun1_score_df3\n",
    "shangji_zhengzhibiaozhun1_score_df3_L = len(shangji_zhengzhibiaozhun1_score_df3)\n",
    "shangji_zhengzhibiaozhun1_SUM = float(shangji_zhengzhibiaozhun1_score_df3.sum())\n",
    "shangji_zhengzhibiaozhun1_Mean = shangji_zhengzhibiaozhun1_SUM/shangji_zhengzhibiaozhun1_score_df3_L\n",
    "sheet1['E23'] = float(shangji_zhengzhibiaozhun1_Mean)"
   ]
  },
  {
   "cell_type": "markdown",
   "metadata": {},
   "source": [
    "上级&党委-政治标准2-分数"
   ]
  },
  {
   "cell_type": "code",
   "execution_count": 1215,
   "metadata": {},
   "outputs": [],
   "source": [
    "shangji_zhengzhibiaozhun2_score = shangji_zhengzhibiaozhun2[['资格评分']].drop_duplicates()\n",
    "shangji_zhengzhibiaozhun2_score_df = shangji_zhengzhibiaozhun2_score.query('资格评分!=\"暂无\"').reset_index(drop=True)\n",
    "shangji_zhengzhibiaozhun2_score_df\n",
    "shangji_zhengzhibiaozhun2_score_df2 = shangji_zhengzhibiaozhun2_score_df.fillna(0)\n",
    "shangji_zhengzhibiaozhun2_score_df2\n",
    "shangji_zhengzhibiaozhun2_score_df3 = shangji_zhengzhibiaozhun2_score_df2.query('资格评分!=0').reset_index(drop=True)\n",
    "shangji_zhengzhibiaozhun2_score_df3\n",
    "shangji_zhengzhibiaozhun2_score_df3_L = len(shangji_zhengzhibiaozhun2_score_df3)\n",
    "shangji_zhengzhibiaozhun2_SUM = float(shangji_zhengzhibiaozhun2_score_df3.sum())\n",
    "shangji_zhengzhibiaozhun2_Mean = shangji_zhengzhibiaozhun2_SUM/shangji_zhengzhibiaozhun2_score_df3_L\n",
    "sheet1['E24'] = float(shangji_zhengzhibiaozhun2_Mean)"
   ]
  },
  {
   "cell_type": "markdown",
   "metadata": {},
   "source": [
    "上级&党委-政治标准3-分数"
   ]
  },
  {
   "cell_type": "code",
   "execution_count": 1216,
   "metadata": {},
   "outputs": [],
   "source": [
    "shangji_zhengzhibiaozhun3_score = shangji_zhengzhibiaozhun3[['资格评分']].drop_duplicates()\n",
    "shangji_zhengzhibiaozhun3_score_df = shangji_zhengzhibiaozhun3_score.query('资格评分!=\"暂无\"').reset_index(drop=True)\n",
    "shangji_zhengzhibiaozhun3_score_df\n",
    "shangji_zhengzhibiaozhun3_score_df2 = shangji_zhengzhibiaozhun3_score_df.fillna(0)\n",
    "shangji_zhengzhibiaozhun3_score_df2\n",
    "shangji_zhengzhibiaozhun3_score_df3 = shangji_zhengzhibiaozhun3_score_df2.query('资格评分!=0').reset_index(drop=True)\n",
    "shangji_zhengzhibiaozhun3_score_df3\n",
    "shangji_zhengzhibiaozhun3_score_df3_L = len(shangji_zhengzhibiaozhun3_score_df3)\n",
    "shangji_zhengzhibiaozhun3_SUM = float(shangji_zhengzhibiaozhun3_score_df3.sum())\n",
    "shangji_zhengzhibiaozhun3_Mean = shangji_zhengzhibiaozhun3_SUM/shangji_zhengzhibiaozhun3_score_df3_L\n",
    "sheet1['E25'] = float(shangji_zhengzhibiaozhun3_Mean)"
   ]
  },
  {
   "cell_type": "markdown",
   "metadata": {},
   "source": [
    "上级&党委-政治标准4-分数"
   ]
  },
  {
   "cell_type": "code",
   "execution_count": 1217,
   "metadata": {},
   "outputs": [],
   "source": [
    "shangji_zhengzhibiaozhun4_score = shangji_zhengzhibiaozhun4[['资格评分']].drop_duplicates()\n",
    "shangji_zhengzhibiaozhun4_score_df = shangji_zhengzhibiaozhun4_score.query('资格评分!=\"暂无\"').reset_index(drop=True)\n",
    "shangji_zhengzhibiaozhun4_score_df\n",
    "shangji_zhengzhibiaozhun4_score_df2 = shangji_zhengzhibiaozhun4_score_df.fillna(0)\n",
    "shangji_zhengzhibiaozhun4_score_df2\n",
    "shangji_zhengzhibiaozhun4_score_df3 = shangji_zhengzhibiaozhun4_score_df2.query('资格评分!=0').reset_index(drop=True)\n",
    "shangji_zhengzhibiaozhun4_score_df3\n",
    "shangji_zhengzhibiaozhun4_score_df3_L = len(shangji_zhengzhibiaozhun4_score_df3)\n",
    "shangji_zhengzhibiaozhun4_SUM = float(shangji_zhengzhibiaozhun4_score_df3.sum())\n",
    "shangji_zhengzhibiaozhun4_Mean = shangji_zhengzhibiaozhun4_SUM/shangji_zhengzhibiaozhun4_score_df3_L\n",
    "sheet1['E26'] = float(shangji_zhengzhibiaozhun4_Mean)"
   ]
  },
  {
   "cell_type": "markdown",
   "metadata": {},
   "source": [
    "# 下属"
   ]
  },
  {
   "cell_type": "code",
   "execution_count": 1218,
   "metadata": {},
   "outputs": [],
   "source": [
    "xiashu_jihuayuzhixing1 = xiashu.query('资格姓名==\"计划与执行-1\"')\n",
    "xiashu_jihuayuzhixing2 = xiashu.query('资格姓名==\"计划与执行-2\"')"
   ]
  },
  {
   "cell_type": "code",
   "execution_count": 1219,
   "metadata": {},
   "outputs": [],
   "source": [
    "xiashu_fenxigaishan1 = xiashu.query('资格姓名==\"分析改善-1\"')\n",
    "xiashu_fenxigaishan2 = xiashu.query('资格姓名==\"分析改善-2\"')"
   ]
  },
  {
   "cell_type": "code",
   "execution_count": 1220,
   "metadata": {},
   "outputs": [],
   "source": [
    "xiashu_liuchengshishi1 = xiashu.query('资格姓名==\"流程实施-1\"')\n",
    "xiashu_liuchengshishi2 = xiashu.query('资格姓名==\"流程实施-2\"')"
   ]
  },
  {
   "cell_type": "code",
   "execution_count": 1221,
   "metadata": {},
   "outputs": [],
   "source": [
    "xiashu_gaoxiaogoutong1 = xiashu.query('资格姓名==\"高效沟通-1\"')\n",
    "xiashu_gaoxiaogoutong2 = xiashu.query('资格姓名==\"高效沟通-2\"')"
   ]
  },
  {
   "cell_type": "code",
   "execution_count": 1222,
   "metadata": {},
   "outputs": [],
   "source": [
    "xiashu_tuanduiningjie1 = xiashu.query('资格姓名==\"团队凝聚-1\"')\n",
    "xiashu_tuanduiningjie2 = xiashu.query('资格姓名==\"团队凝聚-2\"')"
   ]
  },
  {
   "cell_type": "code",
   "execution_count": 1223,
   "metadata": {},
   "outputs": [],
   "source": [
    "xiashu_yuangongpeiyu1  = xiashu.query('资格姓名==\"员工培育-1\"')\n",
    "xiashu_yuangongpeiyu2  = xiashu.query('资格姓名==\"员工培育-2\"')"
   ]
  },
  {
   "cell_type": "code",
   "execution_count": 1224,
   "metadata": {},
   "outputs": [],
   "source": [
    "xiashu_jiazhiguan1 = xiashu.query('资格姓名==\"价值观-1\"')\n",
    "xiashu_jiazhiguan2 = xiashu.query('资格姓名==\"价值观-2\"')\n",
    "xiashu_jiazhiguan3 = xiashu.query('资格姓名==\"价值观-3\"')\n",
    "xiashu_jiazhiguan4 = xiashu.query('资格姓名==\"价值观-4\"')"
   ]
  },
  {
   "cell_type": "code",
   "execution_count": 1225,
   "metadata": {},
   "outputs": [],
   "source": [
    "xiashu_zhengzhibiaozhun1 = xiashu.query('资格姓名==\"政治标准-1\"')\n",
    "xiashu_zhengzhibiaozhun2 = xiashu.query('资格姓名==\"政治标准-2\"')\n",
    "xiashu_zhengzhibiaozhun3 = xiashu.query('资格姓名==\"政治标准-3\"')\n",
    "xiashu_zhengzhibiaozhun4 = xiashu.query('资格姓名==\"政治标准-4\"')"
   ]
  },
  {
   "cell_type": "markdown",
   "metadata": {},
   "source": [
    "下属-计划与执行1-分数"
   ]
  },
  {
   "cell_type": "code",
   "execution_count": 1287,
   "metadata": {},
   "outputs": [],
   "source": [
    "xiashu_jihuayuzhixing1_score = xiashu_jihuayuzhixing1[['资格评分']].drop_duplicates()\n",
    "xiashu_jihuayuzhixing1_score_df = xiashu_jihuayuzhixing1_score.query('资格评分!=\"暂无\"').reset_index(drop=True)\n",
    "xiashu_jihuayuzhixing1_score_df\n",
    "xiashu_jihuayuzhixing1_score_df2 = xiashu_jihuayuzhixing1_score_df.fillna(0)\n",
    "xiashu_jihuayuzhixing1_score_df2\n",
    "xiashu_jihuayuzhixing1_score_df3 = xiashu_jihuayuzhixing1_score_df2.query('资格评分!=0').reset_index(drop=True)\n",
    "xiashu_jihuayuzhixing1_score_df3\n",
    "xiashu_jihuayuzhixing1_score_df3_L = len(xiashu_jihuayuzhixing1_score_df3)"
   ]
  },
  {
   "cell_type": "code",
   "execution_count": 1288,
   "metadata": {},
   "outputs": [],
   "source": [
    "if xiashu_jihuayuzhixing1_score_df3_L == 0 :\n",
    "    xiashu_jihuayuzhixing_Mean = \"无法判断\"\n",
    "else:\n",
    "    xiashu_jihuayuzhixing1_Mean = float(xiashu_jihuayuzhixing1_score_df3_sum())/xiashu_jihuayuzhixing1_score_df3_L"
   ]
  },
  {
   "cell_type": "code",
   "execution_count": 1289,
   "metadata": {},
   "outputs": [
    {
     "data": {
      "text/plain": [
       "资格评分   NaN\n",
       "dtype: float64"
      ]
     },
     "execution_count": 1289,
     "metadata": {},
     "output_type": "execute_result"
    }
   ],
   "source": [
    "xiashu_jihuayuzhixing1_Mean"
   ]
  },
  {
   "cell_type": "code",
   "execution_count": 1290,
   "metadata": {},
   "outputs": [
    {
     "ename": "ValueError",
     "evalue": "Cannot convert 资格评分   NaN\ndtype: float64 to Excel",
     "output_type": "error",
     "traceback": [
      "\u001b[1;31m---------------------------------------------------------------------------\u001b[0m",
      "\u001b[1;31mValueError\u001b[0m                                Traceback (most recent call last)",
      "\u001b[1;32m<ipython-input-1290-54b10a94ecc6>\u001b[0m in \u001b[0;36m<module>\u001b[1;34m\u001b[0m\n\u001b[1;32m----> 1\u001b[1;33m \u001b[0msheet1\u001b[0m\u001b[1;33m[\u001b[0m\u001b[1;34m'I7'\u001b[0m\u001b[1;33m]\u001b[0m \u001b[1;33m=\u001b[0m \u001b[0mxiashu_jihuayuzhixing1_Mean\u001b[0m\u001b[1;33m\u001b[0m\u001b[1;33m\u001b[0m\u001b[0m\n\u001b[0m",
      "\u001b[1;32me:\\Anaconda3\\lib\\site-packages\\openpyxl\\worksheet\\worksheet.py\u001b[0m in \u001b[0;36m__setitem__\u001b[1;34m(self, key, value)\u001b[0m\n\u001b[0;32m    302\u001b[0m \u001b[1;33m\u001b[0m\u001b[0m\n\u001b[0;32m    303\u001b[0m     \u001b[1;32mdef\u001b[0m \u001b[0m__setitem__\u001b[0m\u001b[1;33m(\u001b[0m\u001b[0mself\u001b[0m\u001b[1;33m,\u001b[0m \u001b[0mkey\u001b[0m\u001b[1;33m,\u001b[0m \u001b[0mvalue\u001b[0m\u001b[1;33m)\u001b[0m\u001b[1;33m:\u001b[0m\u001b[1;33m\u001b[0m\u001b[1;33m\u001b[0m\u001b[0m\n\u001b[1;32m--> 304\u001b[1;33m         \u001b[0mself\u001b[0m\u001b[1;33m[\u001b[0m\u001b[0mkey\u001b[0m\u001b[1;33m]\u001b[0m\u001b[1;33m.\u001b[0m\u001b[0mvalue\u001b[0m \u001b[1;33m=\u001b[0m \u001b[0mvalue\u001b[0m\u001b[1;33m\u001b[0m\u001b[1;33m\u001b[0m\u001b[0m\n\u001b[0m\u001b[0;32m    305\u001b[0m \u001b[1;33m\u001b[0m\u001b[0m\n\u001b[0;32m    306\u001b[0m \u001b[1;33m\u001b[0m\u001b[0m\n",
      "\u001b[1;32me:\\Anaconda3\\lib\\site-packages\\openpyxl\\cell\\cell.py\u001b[0m in \u001b[0;36mvalue\u001b[1;34m(self, value)\u001b[0m\n\u001b[0;32m    237\u001b[0m     \u001b[1;32mdef\u001b[0m \u001b[0mvalue\u001b[0m\u001b[1;33m(\u001b[0m\u001b[0mself\u001b[0m\u001b[1;33m,\u001b[0m \u001b[0mvalue\u001b[0m\u001b[1;33m)\u001b[0m\u001b[1;33m:\u001b[0m\u001b[1;33m\u001b[0m\u001b[1;33m\u001b[0m\u001b[0m\n\u001b[0;32m    238\u001b[0m         \u001b[1;34m\"\"\"Set the value and infer type and display options.\"\"\"\u001b[0m\u001b[1;33m\u001b[0m\u001b[1;33m\u001b[0m\u001b[0m\n\u001b[1;32m--> 239\u001b[1;33m         \u001b[0mself\u001b[0m\u001b[1;33m.\u001b[0m\u001b[0m_bind_value\u001b[0m\u001b[1;33m(\u001b[0m\u001b[0mvalue\u001b[0m\u001b[1;33m)\u001b[0m\u001b[1;33m\u001b[0m\u001b[1;33m\u001b[0m\u001b[0m\n\u001b[0m\u001b[0;32m    240\u001b[0m \u001b[1;33m\u001b[0m\u001b[0m\n\u001b[0;32m    241\u001b[0m     \u001b[1;33m@\u001b[0m\u001b[0mproperty\u001b[0m\u001b[1;33m\u001b[0m\u001b[1;33m\u001b[0m\u001b[0m\n",
      "\u001b[1;32me:\\Anaconda3\\lib\\site-packages\\openpyxl\\cell\\cell.py\u001b[0m in \u001b[0;36m_bind_value\u001b[1;34m(self, value)\u001b[0m\n\u001b[0;32m    220\u001b[0m \u001b[1;33m\u001b[0m\u001b[0m\n\u001b[0;32m    221\u001b[0m         \u001b[1;32melif\u001b[0m \u001b[0mvalue\u001b[0m \u001b[1;32mis\u001b[0m \u001b[1;32mnot\u001b[0m \u001b[1;32mNone\u001b[0m\u001b[1;33m:\u001b[0m\u001b[1;33m\u001b[0m\u001b[1;33m\u001b[0m\u001b[0m\n\u001b[1;32m--> 222\u001b[1;33m             \u001b[1;32mraise\u001b[0m \u001b[0mValueError\u001b[0m\u001b[1;33m(\u001b[0m\u001b[1;34m\"Cannot convert {0!r} to Excel\"\u001b[0m\u001b[1;33m.\u001b[0m\u001b[0mformat\u001b[0m\u001b[1;33m(\u001b[0m\u001b[0mvalue\u001b[0m\u001b[1;33m)\u001b[0m\u001b[1;33m)\u001b[0m\u001b[1;33m\u001b[0m\u001b[1;33m\u001b[0m\u001b[0m\n\u001b[0m\u001b[0;32m    223\u001b[0m \u001b[1;33m\u001b[0m\u001b[0m\n\u001b[0;32m    224\u001b[0m         \u001b[0mself\u001b[0m\u001b[1;33m.\u001b[0m\u001b[0m_value\u001b[0m \u001b[1;33m=\u001b[0m \u001b[0mvalue\u001b[0m\u001b[1;33m\u001b[0m\u001b[1;33m\u001b[0m\u001b[0m\n",
      "\u001b[1;31mValueError\u001b[0m: Cannot convert 资格评分   NaN\ndtype: float64 to Excel"
     ]
    }
   ],
   "source": [
    "sheet1['I7'] = xiashu_jihuayuzhixing1_Mean"
   ]
  },
  {
   "cell_type": "code",
   "execution_count": null,
   "metadata": {},
   "outputs": [],
   "source": []
  },
  {
   "cell_type": "markdown",
   "metadata": {},
   "source": [
    "下属-计划与执行2-分数"
   ]
  },
  {
   "cell_type": "code",
   "execution_count": 1230,
   "metadata": {},
   "outputs": [
    {
     "ename": "ZeroDivisionError",
     "evalue": "float division by zero",
     "output_type": "error",
     "traceback": [
      "\u001b[1;31m---------------------------------------------------------------------------\u001b[0m",
      "\u001b[1;31mZeroDivisionError\u001b[0m                         Traceback (most recent call last)",
      "\u001b[1;32m<ipython-input-1230-25b777a534ff>\u001b[0m in \u001b[0;36m<module>\u001b[1;34m\u001b[0m\n\u001b[0;32m      8\u001b[0m \u001b[0mxiashu_jihuayuzhixing2_score_df3_L\u001b[0m \u001b[1;33m=\u001b[0m \u001b[0mlen\u001b[0m\u001b[1;33m(\u001b[0m\u001b[0mxiashu_jihuayuzhixing2_score_df3\u001b[0m\u001b[1;33m)\u001b[0m\u001b[1;33m\u001b[0m\u001b[1;33m\u001b[0m\u001b[0m\n\u001b[0;32m      9\u001b[0m \u001b[0mxiashu_jihuayuzhixing2_SUM\u001b[0m \u001b[1;33m=\u001b[0m \u001b[0mfloat\u001b[0m\u001b[1;33m(\u001b[0m\u001b[0mxiashu_jihuayuzhixing2_score_df3\u001b[0m\u001b[1;33m.\u001b[0m\u001b[0msum\u001b[0m\u001b[1;33m(\u001b[0m\u001b[1;33m)\u001b[0m\u001b[1;33m)\u001b[0m\u001b[1;33m\u001b[0m\u001b[1;33m\u001b[0m\u001b[0m\n\u001b[1;32m---> 10\u001b[1;33m \u001b[0mxiashu_jihuayuzhixing2_Mean\u001b[0m \u001b[1;33m=\u001b[0m \u001b[0mxiashu_jihuayuzhixing2_SUM\u001b[0m\u001b[1;33m/\u001b[0m\u001b[0mxiashu_jihuayuzhixing1_score_df3_L\u001b[0m\u001b[1;33m\u001b[0m\u001b[1;33m\u001b[0m\u001b[0m\n\u001b[0m\u001b[0;32m     11\u001b[0m \u001b[0msheet1\u001b[0m\u001b[1;33m[\u001b[0m\u001b[1;34m'I8'\u001b[0m\u001b[1;33m]\u001b[0m \u001b[1;33m=\u001b[0m \u001b[0mfloat\u001b[0m\u001b[1;33m(\u001b[0m\u001b[0mxiashu_jihuayuzhixing2_Mean\u001b[0m\u001b[1;33m)\u001b[0m\u001b[1;33m\u001b[0m\u001b[1;33m\u001b[0m\u001b[0m\n",
      "\u001b[1;31mZeroDivisionError\u001b[0m: float division by zero"
     ]
    }
   ],
   "source": [
    "xiashu_jihuayuzhixing2_score = xiashu_jihuayuzhixing2[['资格评分']].drop_duplicates()\n",
    "xiashu_jihuayuzhixing2_score_df = xiashu_jihuayuzhixing2_score.query('资格评分!=\"暂无\"').reset_index(drop=True)\n",
    "xiashu_jihuayuzhixing2_score_df\n",
    "xiashu_jihuayuzhixing2_score_df2 = xiashu_jihuayuzhixing2_score_df.fillna(0)\n",
    "xiashu_jihuayuzhixing2_score_df2\n",
    "xiashu_jihuayuzhixing2_score_df3 = xiashu_jihuayuzhixing2_score_df2.query('资格评分!=0').reset_index(drop=True)\n",
    "xiashu_jihuayuzhixing2_score_df3\n",
    "xiashu_jihuayuzhixing2_score_df3_L = len(xiashu_jihuayuzhixing2_score_df3)\n",
    "xiashu_jihuayuzhixing2_SUM = float(xiashu_jihuayuzhixing2_score_df3.sum())\n",
    "xiashu_jihuayuzhixing2_Mean = xiashu_jihuayuzhixing2_SUM/xiashu_jihuayuzhixing1_score_df3_L\n",
    "sheet1['I8'] = float(xiashu_jihuayuzhixing2_Mean)"
   ]
  },
  {
   "cell_type": "code",
   "execution_count": 1231,
   "metadata": {},
   "outputs": [
    {
     "data": {
      "text/plain": [
       "资格评分    inf\n",
       "dtype: float64"
      ]
     },
     "execution_count": 1231,
     "metadata": {},
     "output_type": "execute_result"
    }
   ],
   "source": [
    "xiashu_jihuayuzhixing2_Mean"
   ]
  },
  {
   "cell_type": "markdown",
   "metadata": {},
   "source": [
    "下属-分析改善1-分数"
   ]
  },
  {
   "cell_type": "code",
   "execution_count": 1232,
   "metadata": {},
   "outputs": [],
   "source": [
    "xiashu_fenxigaishan1_score = xiashu_fenxigaishan1[['资格评分']].drop_duplicates()\n",
    "xiashu_fenxigaishan1_score_df = xiashu_fenxigaishan1_score.query('资格评分!=\"暂无\"').reset_index(drop=True)\n",
    "xiashu_fenxigaishan1_score_df\n",
    "xiashu_fenxigaishan1_score_df2 = xiashu_fenxigaishan1_score_df.fillna(0)\n",
    "xiashu_fenxigaishan1_score_df2\n",
    "xiashu_fenxigaishan1_score_df3 = xiashu_fenxigaishan1_score_df2.query('资格评分!=0').reset_index(drop=True)\n",
    "xiashu_fenxigaishan1_score_df3\n",
    "xiashu_fenxigaishan1_score_df3_L = len(xiashu_fenxigaishan1_score_df3)\n",
    "xiashu_fenxigaishan1_SUM = float(xiashu_fenxigaishan1_score_df3.sum())\n",
    "xiashu_fenxigaishan1_Mean = xiashu_fenxigaishan1_SUM/xiashu_fenxigaishan1_score_df3_L\n",
    "sheet1['I9'] = float(xiashu_fenxigaishan1_Mean)"
   ]
  },
  {
   "cell_type": "markdown",
   "metadata": {},
   "source": [
    "下属-分析改善2-分数"
   ]
  },
  {
   "cell_type": "code",
   "execution_count": 1233,
   "metadata": {},
   "outputs": [],
   "source": [
    "xiashu_fenxigaishan2_score = xiashu_fenxigaishan2[['资格评分']].drop_duplicates()\n",
    "xiashu_fenxigaishan2_score_df = xiashu_fenxigaishan2_score.query('资格评分!=\"暂无\"').reset_index(drop=True)\n",
    "xiashu_fenxigaishan2_score_df\n",
    "xiashu_fenxigaishan2_score_df2 = xiashu_fenxigaishan2_score_df.fillna(0)\n",
    "xiashu_fenxigaishan2_score_df2\n",
    "xiashu_fenxigaishan2_score_df3 = xiashu_fenxigaishan2_score_df2.query('资格评分!=0').reset_index(drop=True)\n",
    "xiashu_fenxigaishan2_score_df3\n",
    "xiashu_fenxigaishan2_score_df3_L = len(xiashu_fenxigaishan2_score_df3)\n",
    "xiashu_fenxigaishan2_SUM = float(xiashu_fenxigaishan2_score_df3.sum())\n",
    "xiashu_fenxigaishan2_Mean = xiashu_fenxigaishan2_SUM/xiashu_fenxigaishan2_score_df3_L\n",
    "sheet1['I10'] = float(xiashu_fenxigaishan2_Mean)"
   ]
  },
  {
   "cell_type": "markdown",
   "metadata": {},
   "source": [
    "下属-流程实施1-分数"
   ]
  },
  {
   "cell_type": "code",
   "execution_count": 1234,
   "metadata": {},
   "outputs": [],
   "source": [
    "xiashu_liuchengshishi1_score = xiashu_liuchengshishi1[['资格评分']].drop_duplicates() #提取资格评分\n",
    "xiashu_liuchengshishi1_score_df = xiashu_liuchengshishi1_score.query('资格评分!=\"暂无\"').reset_index(drop=True)\n",
    "xiashu_liuchengshishi1_score_df #去除暂无数据\n",
    "xiashu_liuchengshishi1_score_df2 = xiashu_liuchengshishi1_score_df.fillna(0) #把空值赋0\n",
    "xiashu_liuchengshishi1_score_df2\n",
    "xiashu_liuchengshishi1_score_df3 = xiashu_liuchengshishi1_score_df2.query('资格评分!=0').reset_index(drop=True)\n",
    "xiashu_liuchengshishi1_score_df3 #去除空值数据\n",
    "xiashu_liuchengshishi1_score_df3_L = len(xiashu_liuchengshishi1_score_df3) #种类\n",
    "xiashu_liuchengshishi1_SUM = float(xiashu_liuchengshishi1_score_df3.sum()) #求和\n",
    "xiashu_liuchengshishi1_Mean = xiashu_liuchengshishi1_SUM/xiashu_liuchengshishi1_score_df3_L #求平均\n",
    "sheet1['I11'] = float(xiashu_liuchengshishi1_Mean) #数值转类型"
   ]
  },
  {
   "cell_type": "markdown",
   "metadata": {},
   "source": [
    "下属-流程实施2-分数"
   ]
  },
  {
   "cell_type": "code",
   "execution_count": 1235,
   "metadata": {},
   "outputs": [],
   "source": [
    "xiashu_liuchengshishi2_score = xiashu_liuchengshishi2[['资格评分']].drop_duplicates()\n",
    "xiashu_liuchengshishi2_score_df = xiashu_liuchengshishi2_score.query('资格评分!=\"暂无\"').reset_index(drop=True)\n",
    "xiashu_liuchengshishi2_score_df\n",
    "xiashu_liuchengshishi2_score_df2 = xiashu_liuchengshishi2_score_df.fillna(0)\n",
    "xiashu_liuchengshishi2_score_df2\n",
    "xiashu_liuchengshishi2_score_df3 = xiashu_liuchengshishi2_score_df2.query('资格评分!=0').reset_index(drop=True)\n",
    "xiashu_liuchengshishi2_score_df3\n",
    "xiashu_liuchengshishi2_score_df3_L = len(xiashu_liuchengshishi2_score_df3)\n",
    "xiashu_liuchengshishi2_SUM = float(xiashu_liuchengshishi2_score_df3.sum())\n",
    "xiashu_liuchengshishi2_Mean = xiashu_liuchengshishi1_SUM/xiashu_liuchengshishi2_score_df3_L\n",
    "sheet1['I12'] = float(xiashu_liuchengshishi2_Mean)"
   ]
  },
  {
   "cell_type": "markdown",
   "metadata": {},
   "source": [
    "下属-高效沟通1-分数"
   ]
  },
  {
   "cell_type": "code",
   "execution_count": 1236,
   "metadata": {},
   "outputs": [],
   "source": [
    "xiashu_gaoxiaogoutong1_score = xiashu_gaoxiaogoutong1[['资格评分']].drop_duplicates()\n",
    "xiashu_gaoxiaogoutong1_score_df = xiashu_gaoxiaogoutong1_score.query('资格评分!=\"暂无\"').reset_index(drop=True)\n",
    "xiashu_gaoxiaogoutong1_score_df\n",
    "xiashu_gaoxiaogoutong1_score_df2 = xiashu_gaoxiaogoutong1_score_df.fillna(0)\n",
    "xiashu_gaoxiaogoutong1_score_df2\n",
    "xiashu_gaoxiaogoutong1_score_df3 = xiashu_gaoxiaogoutong1_score_df2.query('资格评分!=0').reset_index(drop=True)\n",
    "xiashu_gaoxiaogoutong1_score_df3\n",
    "xiashu_gaoxiaogoutong1_score_df3_L = len(xiashu_gaoxiaogoutong1_score_df3)\n",
    "xiashu_gaoxiaogoutong1_SUM = float(xiashu_gaoxiaogoutong1_score_df3.sum())\n",
    "xiashu_gaoxiaogoutong1_Mean = xiashu_gaoxiaogoutong1_SUM/xiashu_gaoxiaogoutong1_score_df3_L\n",
    "sheet1['I13'] = float(xiashu_gaoxiaogoutong1_Mean)"
   ]
  },
  {
   "cell_type": "markdown",
   "metadata": {},
   "source": [
    "下属-高效沟通2-分数"
   ]
  },
  {
   "cell_type": "code",
   "execution_count": 1237,
   "metadata": {},
   "outputs": [],
   "source": [
    "xiashu_gaoxiaogoutong2_score = xiashu_gaoxiaogoutong1[['资格评分']].drop_duplicates()\n",
    "xiashu_gaoxiaogoutong2_score_df = xiashu_gaoxiaogoutong2_score.query('资格评分!=\"暂无\"').reset_index(drop=True)\n",
    "xiashu_gaoxiaogoutong2_score_df\n",
    "xiashu_gaoxiaogoutong2_score_df2 = xiashu_gaoxiaogoutong2_score_df.fillna(0)\n",
    "xiashu_gaoxiaogoutong2_score_df2\n",
    "xiashu_gaoxiaogoutong2_score_df3 = xiashu_gaoxiaogoutong2_score_df2.query('资格评分!=0').reset_index(drop=True)\n",
    "xiashu_gaoxiaogoutong2_score_df3\n",
    "xiashu_gaoxiaogoutong2_score_df3_L = len(xiashu_gaoxiaogoutong2_score_df3)\n",
    "xiashu_gaoxiaogoutong2_SUM = float(xiashu_gaoxiaogoutong2_score_df3.sum())\n",
    "xiashu_gaoxiaogoutong2_Mean = xiashu_gaoxiaogoutong2_SUM/xiashu_gaoxiaogoutong1_score_df3_L\n",
    "sheet1['I14'] = float(xiashu_gaoxiaogoutong2_Mean)"
   ]
  },
  {
   "cell_type": "markdown",
   "metadata": {},
   "source": [
    "下属-团队凝结1-分数"
   ]
  },
  {
   "cell_type": "code",
   "execution_count": 1238,
   "metadata": {},
   "outputs": [],
   "source": [
    "xiashu_tuanduiningjie1_score = xiashu_tuanduiningjie1[['资格评分']].drop_duplicates()\n",
    "xiashu_tuanduiningjie1_score_df = xiashu_tuanduiningjie1_score.query('资格评分!=\"暂无\"').reset_index(drop=True)\n",
    "xiashu_tuanduiningjie1_score_df\n",
    "xiashu_tuanduiningjie1_score_df2 = xiashu_gaoxiaogoutong1_score_df.fillna(0)\n",
    "xiashu_tuanduiningjie1_score_df2\n",
    "xiashu_tuanduiningjie1_score_df3 = xiashu_gaoxiaogoutong1_score_df2.query('资格评分!=0').reset_index(drop=True)\n",
    "xiashu_tuanduiningjie1_score_df3\n",
    "xiashu_tuanduiningjie1_score_df3_L = len(xiashu_tuanduiningjie1_score_df3)\n",
    "xiashu_tuanduiningjie1_SUM = float(xiashu_tuanduiningjie1_score_df3.sum())\n",
    "xiashu_tuanduiningjie1_Mean = xiashu_tuanduiningjie1_SUM/xiashu_tuanduiningjie1_score_df3_L\n",
    "sheet1['I13'] = float(xiashu_tuanduiningjie1_Mean)"
   ]
  },
  {
   "cell_type": "markdown",
   "metadata": {},
   "source": [
    "下属-团队凝结2-分数"
   ]
  },
  {
   "cell_type": "code",
   "execution_count": 1239,
   "metadata": {},
   "outputs": [],
   "source": [
    "xiashu_tuanduiningjie2_score = xiashu_tuanduiningjie2[['资格评分']].drop_duplicates()\n",
    "xiashu_tuanduiningjie2_score_df = xiashu_tuanduiningjie2_score.query('资格评分!=\"暂无\"').reset_index(drop=True)\n",
    "xiashu_tuanduiningjie2_score_df\n",
    "xiashu_tuanduiningjie2_score_df2 = xiashu_gaoxiaogoutong2_score_df.fillna(0)\n",
    "xiashu_tuanduiningjie2_score_df2\n",
    "xiashu_tuanduiningjie2_score_df3 = xiashu_gaoxiaogoutong2_score_df2.query('资格评分!=0').reset_index(drop=True)\n",
    "xiashu_tuanduiningjie2_score_df3\n",
    "xiashu_tuanduiningjie2_score_df3_L = len(xiashu_tuanduiningjie2_score_df3)\n",
    "xiashu_tuanduiningjie2_SUM = float(xiashu_tuanduiningjie2_score_df3.sum())\n",
    "xiashu_tuanduiningjie2_Mean = xiashu_tuanduiningjie2_SUM/xiashu_tuanduiningjie2_score_df3_L\n",
    "sheet1['I13'] = float(xiashu_tuanduiningjie2_Mean)"
   ]
  },
  {
   "cell_type": "markdown",
   "metadata": {},
   "source": [
    "下属-员工培育1-分数"
   ]
  },
  {
   "cell_type": "code",
   "execution_count": 1240,
   "metadata": {},
   "outputs": [],
   "source": [
    "xiashu_yuangongpeiyu1_score = xiashu_yuangongpeiyu1[['资格评分']].drop_duplicates()\n",
    "xiashu_yuangongpeiyu1_score_df = xiashu_yuangongpeiyu1_score.query('资格评分!=\"暂无\"').reset_index(drop=True)\n",
    "xiashu_yuangongpeiyu1_score_df\n",
    "xiashu_yuangongpeiyu1_score_df2 = xiashu_yuangongpeiyu1_score_df.fillna(0)\n",
    "xiashu_yuangongpeiyu1_score_df2\n",
    "xiashu_yuangongpeiyu1_score_df3 = xiashu_yuangongpeiyu1_score_df2.query('资格评分!=0').reset_index(drop=True)\n",
    "xiashu_yuangongpeiyu1_score_df3\n",
    "xiashu_yuangongpeiyu1_score_df3_L = len(xiashu_yuangongpeiyu1_score_df3)\n",
    "xiashu_yuangongpeiyu1_SUM = float(xiashu_yuangongpeiyu1_score_df3.sum())\n",
    "xiashu_yuangongpeiyu1_Mean = xiashu_yuangongpeiyu1_SUM/xiashu_yuangongpeiyu1_score_df3_L\n",
    "sheet1['I13'] = float(xiashu_yuangongpeiyu1_Mean)"
   ]
  },
  {
   "cell_type": "markdown",
   "metadata": {},
   "source": [
    "下属-员工培育2-分数"
   ]
  },
  {
   "cell_type": "code",
   "execution_count": 1241,
   "metadata": {},
   "outputs": [],
   "source": [
    "xiashu_yuangongpeiyu2_score = xiashu_yuangongpeiyu2[['资格评分']].drop_duplicates()\n",
    "xiashu_yuangongpeiyu2_score_df = xiashu_yuangongpeiyu2_score.query('资格评分!=\"暂无\"').reset_index(drop=True)\n",
    "xiashu_yuangongpeiyu2_score_df\n",
    "xiashu_yuangongpeiyu2_score_df2 = xiashu_yuangongpeiyu2_score_df.fillna(0)\n",
    "xiashu_yuangongpeiyu2_score_df2\n",
    "xiashu_yuangongpeiyu2_score_df3 = xiashu_yuangongpeiyu2_score_df2.query('资格评分!=0').reset_index(drop=True)\n",
    "xiashu_yuangongpeiyu2_score_df3\n",
    "xiashu_yuangongpeiyu2_score_df3_L = len(xiashu_yuangongpeiyu2_score_df3)\n",
    "xiashu_yuangongpeiyu2_SUM = float(xiashu_yuangongpeiyu2_score_df3.sum())\n",
    "xiashu_yuangongpeiyu2_Mean = xiashu_yuangongpeiyu2_SUM/xiashu_yuangongpeiyu1_score_df3_L\n",
    "sheet1['I13'] = float(xiashu_yuangongpeiyu2_Mean)"
   ]
  },
  {
   "cell_type": "markdown",
   "metadata": {},
   "source": [
    "下属-价值观1-分数"
   ]
  },
  {
   "cell_type": "code",
   "execution_count": 1242,
   "metadata": {},
   "outputs": [],
   "source": [
    "xiashu_jiazhiguan1_score = xiashu_jiazhiguan1[['资格评分']].drop_duplicates()\n",
    "xiashu_jiazhiguan1_score_df = xiashu_jiazhiguan1_score.query('资格评分!=\"暂无\"').reset_index(drop=True)\n",
    "xiashu_jiazhiguan1_score_df\n",
    "xiashu_jiazhiguan1_score_df2 = xiashu_jiazhiguan1_score_df.fillna(0)\n",
    "xiashu_jiazhiguan1_score_df2\n",
    "xiashu_jiazhiguan1_score_df3 = xiashu_jiazhiguan1_score_df2.query('资格评分!=0').reset_index(drop=True)\n",
    "xiashu_jiazhiguan1_score_df3\n",
    "xiashu_jiazhiguan1_score_df3_L = len(xiashu_jiazhiguan1_score_df3)\n",
    "xiashu_jiazhiguan1_SUM = float(xiashu_jiazhiguan1_score_df3.sum())\n",
    "xiashu_jiazhiguan1_Mean = xiashu_jiazhiguan1_SUM/xiashu_jiazhiguan1_score_df3_L\n",
    "sheet1['I13'] = float(xiashu_jiazhiguan1_Mean)"
   ]
  },
  {
   "cell_type": "markdown",
   "metadata": {},
   "source": [
    "下属-价值观2-分数"
   ]
  },
  {
   "cell_type": "code",
   "execution_count": 1243,
   "metadata": {},
   "outputs": [],
   "source": [
    "xiashu_jiazhiguan2_score = xiashu_jiazhiguan2[['资格评分']].drop_duplicates()\n",
    "xiashu_jiazhiguan2_score_df = xiashu_jiazhiguan2_score.query('资格评分!=\"暂无\"').reset_index(drop=True)\n",
    "xiashu_jiazhiguan2_score_df\n",
    "xiashu_jiazhiguan2_score_df2 = xiashu_jiazhiguan2_score_df.fillna(0)\n",
    "xiashu_jiazhiguan2_score_df2\n",
    "xiashu_jiazhiguan2_score_df3 = xiashu_jiazhiguan2_score_df2.query('资格评分!=0').reset_index(drop=True)\n",
    "xiashu_jiazhiguan2_score_df3\n",
    "xiashu_jiazhiguan2_score_df3_L = len(xiashu_jiazhiguan2_score_df3)\n",
    "xiashu_jiazhiguan2_SUM = float(xiashu_jiazhiguan2_score_df3.sum())\n",
    "xiashu_jiazhiguan2_Mean = xiashu_jiazhiguan2_SUM/xiashu_jiazhiguan2_score_df3_L\n",
    "sheet1['I13'] = float(xiashu_jiazhiguan2_Mean)"
   ]
  },
  {
   "cell_type": "markdown",
   "metadata": {},
   "source": [
    "下属-价值观3-分数"
   ]
  },
  {
   "cell_type": "code",
   "execution_count": 1244,
   "metadata": {},
   "outputs": [],
   "source": [
    "xiashu_jiazhiguan3_score = xiashu_jiazhiguan3[['资格评分']].drop_duplicates()\n",
    "xiashu_jiazhiguan3_score_df = xiashu_jiazhiguan3_score.query('资格评分!=\"暂无\"').reset_index(drop=True)\n",
    "xiashu_jiazhiguan3_score_df\n",
    "xiashu_jiazhiguan3_score_df2 = xiashu_jiazhiguan3_score_df.fillna(0)\n",
    "xiashu_jiazhiguan3_score_df2\n",
    "xiashu_jiazhiguan3_score_df3 = xiashu_jiazhiguan3_score_df2.query('资格评分!=0').reset_index(drop=True)\n",
    "xiashu_jiazhiguan3_score_df3\n",
    "xiashu_jiazhiguan3_score_df3_L = len(xiashu_jiazhiguan3_score_df3)\n",
    "xiashu_jiazhiguan3_SUM = float(xiashu_jiazhiguan3_score_df3.sum())\n",
    "xiashu_jiazhiguan3_Mean = xiashu_jiazhiguan3_SUM/xiashu_jiazhiguan3_score_df3_L\n",
    "sheet1['I13'] = float(xiashu_jiazhiguan3_Mean)"
   ]
  },
  {
   "cell_type": "markdown",
   "metadata": {},
   "source": [
    "下属-价值观4-分数"
   ]
  },
  {
   "cell_type": "code",
   "execution_count": 1245,
   "metadata": {},
   "outputs": [],
   "source": [
    "xiashu_jiazhiguan4_score = xiashu_jiazhiguan4[['资格评分']].drop_duplicates()\n",
    "xiashu_jiazhiguan4_score_df = xiashu_jiazhiguan4_score.query('资格评分!=\"暂无\"').reset_index(drop=True)\n",
    "xiashu_jiazhiguan4_score_df\n",
    "xiashu_jiazhiguan4_score_df2 = xiashu_jiazhiguan4_score_df.fillna(0)\n",
    "xiashu_jiazhiguan4_score_df2\n",
    "xiashu_jiazhiguan4_score_df3 = xiashu_jiazhiguan4_score_df2.query('资格评分!=0').reset_index(drop=True)\n",
    "xiashu_jiazhiguan4_score_df3\n",
    "xiashu_jiazhiguan4_score_df3_L = len(xiashu_jiazhiguan4_score_df3)\n",
    "xiashu_jiazhiguan4_SUM = float(xiashu_jiazhiguan4_score_df3.sum())\n",
    "xiashu_jiazhiguan4_Mean = xiashu_jiazhiguan4_SUM/xiashu_jiazhiguan4_score_df3_L\n",
    "sheet1['I13'] = float(xiashu_jiazhiguan4_Mean)"
   ]
  },
  {
   "cell_type": "markdown",
   "metadata": {},
   "source": [
    "下属-政治标准1-分数"
   ]
  },
  {
   "cell_type": "code",
   "execution_count": 1246,
   "metadata": {},
   "outputs": [],
   "source": [
    "xiashu_zhengzhibiaozhun1_score = xiashu_zhengzhibiaozhun1[['资格评分']].drop_duplicates()\n",
    "xiashu_zhengzhibiaozhun1_score_df = xiashu_zhengzhibiaozhun1_score.query('资格评分!=\"暂无\"').reset_index(drop=True)\n",
    "xiashu_zhengzhibiaozhun1_score_df\n",
    "xiashu_zhengzhibiaozhun1_score_df2 = xiashu_zhengzhibiaozhun1_score_df.fillna(0)\n",
    "xiashu_zhengzhibiaozhun1_score_df2\n",
    "xiashu_zhengzhibiaozhun1_score_df3 = xiashu_zhengzhibiaozhun1_score_df2.query('资格评分!=0').reset_index(drop=True)\n",
    "xiashu_zhengzhibiaozhun1_score_df3\n",
    "xiashu_zhengzhibiaozhun1_score_df3_L = len(xiashu_zhengzhibiaozhun1_score_df3)\n",
    "xiashu_zhengzhibiaozhun1_SUM = float(xiashu_zhengzhibiaozhun1_score_df3.sum())\n",
    "xiashu_zhengzhibiaozhun1_Mean = xiashu_zhengzhibiaozhun1_SUM/xiashu_zhengzhibiaozhun1_score_df3_L\n",
    "sheet1['I13'] = float(xiashu_zhengzhibiaozhun1_Mean)"
   ]
  },
  {
   "cell_type": "markdown",
   "metadata": {},
   "source": [
    "下属-政治标准2-分数"
   ]
  },
  {
   "cell_type": "code",
   "execution_count": 1247,
   "metadata": {},
   "outputs": [],
   "source": [
    "xiashu_zhengzhibiaozhun2_score = xiashu_zhengzhibiaozhun2[['资格评分']].drop_duplicates()\n",
    "xiashu_zhengzhibiaozhun2_score_df = xiashu_zhengzhibiaozhun2_score.query('资格评分!=\"暂无\"').reset_index(drop=True)\n",
    "xiashu_zhengzhibiaozhun2_score_df\n",
    "xiashu_zhengzhibiaozhun2_score_df2 = xiashu_zhengzhibiaozhun2_score_df.fillna(0)\n",
    "xiashu_zhengzhibiaozhun2_score_df2\n",
    "xiashu_zhengzhibiaozhun2_score_df3 = xiashu_zhengzhibiaozhun2_score_df2.query('资格评分!=0').reset_index(drop=True)\n",
    "xiashu_zhengzhibiaozhun2_score_df3\n",
    "xiashu_zhengzhibiaozhun2_score_df3_L = len(xiashu_zhengzhibiaozhun2_score_df3)\n",
    "xiashu_zhengzhibiaozhun2_SUM = float(xiashu_zhengzhibiaozhun2_score_df3.sum())\n",
    "xiashu_zhengzhibiaozhun2_Mean = xiashu_zhengzhibiaozhun2_SUM/xiashu_zhengzhibiaozhun2_score_df3_L\n",
    "sheet1['I13'] = float(xiashu_zhengzhibiaozhun2_Mean)"
   ]
  },
  {
   "cell_type": "markdown",
   "metadata": {},
   "source": [
    "下属-政治标准3-分数"
   ]
  },
  {
   "cell_type": "code",
   "execution_count": 1248,
   "metadata": {},
   "outputs": [],
   "source": [
    "xiashu_zhengzhibiaozhun3_score = xiashu_zhengzhibiaozhun3[['资格评分']].drop_duplicates()\n",
    "xiashu_zhengzhibiaozhun3_score_df = xiashu_zhengzhibiaozhun3_score.query('资格评分!=\"暂无\"').reset_index(drop=True)\n",
    "xiashu_zhengzhibiaozhun3_score_df\n",
    "xiashu_zhengzhibiaozhun3_score_df2 = xiashu_zhengzhibiaozhun3_score_df.fillna(0)\n",
    "xiashu_zhengzhibiaozhun3_score_df2\n",
    "xiashu_zhengzhibiaozhun3_score_df3 = xiashu_zhengzhibiaozhun3_score_df2.query('资格评分!=0').reset_index(drop=True)\n",
    "xiashu_zhengzhibiaozhun3_score_df3\n",
    "xiashu_zhengzhibiaozhun3_score_df3_L = len(xiashu_zhengzhibiaozhun3_score_df3)\n",
    "xiashu_zhengzhibiaozhun3_SUM = float(xiashu_zhengzhibiaozhun3_score_df3.sum())\n",
    "xiashu_zhengzhibiaozhun3_Mean = xiashu_zhengzhibiaozhun3_SUM/xiashu_zhengzhibiaozhun3_score_df3_L\n",
    "sheet1['I13'] = float(xiashu_zhengzhibiaozhun3_Mean)"
   ]
  },
  {
   "cell_type": "markdown",
   "metadata": {},
   "source": [
    "下属-政治标准4-分数"
   ]
  },
  {
   "cell_type": "code",
   "execution_count": 1249,
   "metadata": {},
   "outputs": [],
   "source": [
    "xiashu_zhengzhibiaozhun4_score = xiashu_zhengzhibiaozhun4[['资格评分']].drop_duplicates()\n",
    "xiashu_zhengzhibiaozhun4_score_df = xiashu_zhengzhibiaozhun4_score.query('资格评分!=\"暂无\"').reset_index(drop=True)\n",
    "xiashu_zhengzhibiaozhun4_score_df\n",
    "xiashu_zhengzhibiaozhun4_score_df2 = xiashu_zhengzhibiaozhun4_score_df.fillna(0)\n",
    "xiashu_zhengzhibiaozhun4_score_df2\n",
    "xiashu_zhengzhibiaozhun4_score_df3 = xiashu_zhengzhibiaozhun4_score_df2.query('资格评分!=0').reset_index(drop=True)\n",
    "xiashu_zhengzhibiaozhun4_score_df3\n",
    "xiashu_zhengzhibiaozhun4_score_df3_L = len(xiashu_zhengzhibiaozhun4_score_df3)\n",
    "xiashu_zhengzhibiaozhun4_SUM = float(xiashu_zhengzhibiaozhun4_score_df3.sum())\n",
    "xiashu_zhengzhibiaozhun4_Mean = xiashu_zhengzhibiaozhun4_SUM/xiashu_zhengzhibiaozhun4_score_df3_L\n",
    "sheet1['I13'] = float(xiashu_zhengzhibiaozhun4_Mean)"
   ]
  },
  {
   "cell_type": "markdown",
   "metadata": {},
   "source": [
    "# K3后备360度能力评价--附加问题回答汇总表"
   ]
  },
  {
   "cell_type": "markdown",
   "metadata": {},
   "source": [
    "评论建议"
   ]
  },
  {
   "cell_type": "markdown",
   "metadata": {},
   "source": [
    "筛选有评论的数据"
   ]
  },
  {
   "cell_type": "code",
   "execution_count": 1250,
   "metadata": {},
   "outputs": [],
   "source": [
    "youpinglun = df[['参与者姓氏','资格姓名','资格评分描述','部分评论']].query('部分评论 ==部分评论')"
   ]
  },
  {
   "cell_type": "code",
   "execution_count": 1251,
   "metadata": {},
   "outputs": [
    {
     "data": {
      "text/html": [
       "<div>\n",
       "<style scoped>\n",
       "    .dataframe tbody tr th:only-of-type {\n",
       "        vertical-align: middle;\n",
       "    }\n",
       "\n",
       "    .dataframe tbody tr th {\n",
       "        vertical-align: top;\n",
       "    }\n",
       "\n",
       "    .dataframe thead th {\n",
       "        text-align: right;\n",
       "    }\n",
       "</style>\n",
       "<table border=\"1\" class=\"dataframe\">\n",
       "  <thead>\n",
       "    <tr style=\"text-align: right;\">\n",
       "      <th></th>\n",
       "      <th>参与者姓氏</th>\n",
       "      <th>资格姓名</th>\n",
       "      <th>资格评分描述</th>\n",
       "      <th>部分评论</th>\n",
       "    </tr>\n",
       "  </thead>\n",
       "  <tbody>\n",
       "    <tr>\n",
       "      <td>20</td>\n",
       "      <td>SF</td>\n",
       "      <td>开放问题-1</td>\n",
       "      <td>不胜任</td>\n",
       "      <td>&lt;p&gt;因为******，所以我认为不胜任&lt;/p&gt;</td>\n",
       "    </tr>\n",
       "    <tr>\n",
       "      <td>21</td>\n",
       "      <td>SF</td>\n",
       "      <td>开放问题-2</td>\n",
       "      <td>NaN</td>\n",
       "      <td>&lt;p&gt;阿达的内部空间牛仔裤聚餐，大红i单号i的。&lt;/p&gt;</td>\n",
       "    </tr>\n",
       "    <tr>\n",
       "      <td>22</td>\n",
       "      <td>SF</td>\n",
       "      <td>开放问题-3</td>\n",
       "      <td>NaN</td>\n",
       "      <td>&lt;p&gt;打洞把必定会i，哦i阿娇的炮击的&lt;/p&gt;</td>\n",
       "    </tr>\n",
       "    <tr>\n",
       "      <td>43</td>\n",
       "      <td>钢铁</td>\n",
       "      <td>开放问题-3</td>\n",
       "      <td>NaN</td>\n",
       "      <td>&lt;p&gt;啊打活动i骄傲的，回到i就&lt;/p&gt;</td>\n",
       "    </tr>\n",
       "    <tr>\n",
       "      <td>44</td>\n",
       "      <td>钢铁</td>\n",
       "      <td>开放问题-2</td>\n",
       "      <td>NaN</td>\n",
       "      <td>&lt;p&gt;阿斗都爱嗲，觉得好i巨大的。&lt;/p&gt;</td>\n",
       "    </tr>\n",
       "    <tr>\n",
       "      <td>45</td>\n",
       "      <td>钢铁</td>\n",
       "      <td>开放问题-1</td>\n",
       "      <td>还需要一段时间的锻炼后胜任</td>\n",
       "      <td>&lt;p&gt;安红豆i加大对会，好的骄傲的。&lt;/p&gt;</td>\n",
       "    </tr>\n",
       "    <tr>\n",
       "      <td>66</td>\n",
       "      <td>鹰</td>\n",
       "      <td>开放问题-1</td>\n",
       "      <td>胜任</td>\n",
       "      <td>&lt;p&gt;覅u共i皇后哦i哦i经济&lt;/p&gt;</td>\n",
       "    </tr>\n",
       "    <tr>\n",
       "      <td>67</td>\n",
       "      <td>鹰</td>\n",
       "      <td>开放问题-2</td>\n",
       "      <td>NaN</td>\n",
       "      <td>&lt;p&gt;客机从i巨大的哦i，安徽到几。&lt;/p&gt;</td>\n",
       "    </tr>\n",
       "    <tr>\n",
       "      <td>68</td>\n",
       "      <td>鹰</td>\n",
       "      <td>开放问题-3</td>\n",
       "      <td>NaN</td>\n",
       "      <td>&lt;p&gt;安顿好i丹东i，都i阿娇哦打开急迫的。&lt;/p&gt;</td>\n",
       "    </tr>\n",
       "    <tr>\n",
       "      <td>89</td>\n",
       "      <td>美国</td>\n",
       "      <td>开放问题-1</td>\n",
       "      <td>还需要一段时间的锻炼后胜任</td>\n",
       "      <td>&lt;p&gt;啊的空间哈打卡机的，奥迪啊u和大地&lt;/p&gt;</td>\n",
       "    </tr>\n",
       "    <tr>\n",
       "      <td>90</td>\n",
       "      <td>美国</td>\n",
       "      <td>开放问题-2</td>\n",
       "      <td>NaN</td>\n",
       "      <td>&lt;p&gt;啊u关系啊u会打电话啊，还u单号i觉得哦i&lt;/p&gt;</td>\n",
       "    </tr>\n",
       "    <tr>\n",
       "      <td>91</td>\n",
       "      <td>美国</td>\n",
       "      <td>开放问题-3</td>\n",
       "      <td>NaN</td>\n",
       "      <td>&lt;p&gt;啊u活动i啊回答被当局哈迪，好的骄傲i大家安排就&lt;/p&gt;</td>\n",
       "    </tr>\n",
       "    <tr>\n",
       "      <td>112</td>\n",
       "      <td>洛基</td>\n",
       "      <td>开放问题-1</td>\n",
       "      <td>还需要一段时间的锻炼后胜任</td>\n",
       "      <td>&lt;p&gt;dadjaldnabfdajd,赌球活动i阿吉豆。&lt;/p&gt;</td>\n",
       "    </tr>\n",
       "    <tr>\n",
       "      <td>113</td>\n",
       "      <td>洛基</td>\n",
       "      <td>开放问题-2</td>\n",
       "      <td>NaN</td>\n",
       "      <td>&lt;p&gt;安定哈达就把大家，大喊大叫到了卡迪拉克。&lt;/p&gt;</td>\n",
       "    </tr>\n",
       "    <tr>\n",
       "      <td>114</td>\n",
       "      <td>洛基</td>\n",
       "      <td>开放问题-3</td>\n",
       "      <td>NaN</td>\n",
       "      <td>&lt;p&gt;啊打多久哦i啊打，阿耨i大家都啊，&lt;/p&gt;</td>\n",
       "    </tr>\n",
       "    <tr>\n",
       "      <td>115</td>\n",
       "      <td>蜘蛛</td>\n",
       "      <td>开放问题-3</td>\n",
       "      <td>NaN</td>\n",
       "      <td>&lt;p&gt;安科技大楼打单机翻到你缺乏&lt;/p&gt;</td>\n",
       "    </tr>\n",
       "    <tr>\n",
       "      <td>116</td>\n",
       "      <td>蜘蛛</td>\n",
       "      <td>开放问题-2</td>\n",
       "      <td>NaN</td>\n",
       "      <td>&lt;p&gt;你承担别擦了看到那&lt;/p&gt;</td>\n",
       "    </tr>\n",
       "    <tr>\n",
       "      <td>117</td>\n",
       "      <td>蜘蛛</td>\n",
       "      <td>开放问题-1</td>\n",
       "      <td>胜任</td>\n",
       "      <td>&lt;p&gt;爱丁堡卡达都不看的，大号打，&lt;/p&gt;</td>\n",
       "    </tr>\n",
       "    <tr>\n",
       "      <td>158</td>\n",
       "      <td>雷</td>\n",
       "      <td>开放问题-3</td>\n",
       "      <td>NaN</td>\n",
       "      <td>&lt;p&gt;啊u到i大家哦i，大红的骄傲i大家。&lt;/p&gt;</td>\n",
       "    </tr>\n",
       "    <tr>\n",
       "      <td>159</td>\n",
       "      <td>雷</td>\n",
       "      <td>开放问题-2</td>\n",
       "      <td>NaN</td>\n",
       "      <td>&lt;p&gt;大丢啊嗲家ida，u爱的好久哦&lt;/p&gt;</td>\n",
       "    </tr>\n",
       "    <tr>\n",
       "      <td>160</td>\n",
       "      <td>雷</td>\n",
       "      <td>开放问题-1</td>\n",
       "      <td>胜任</td>\n",
       "      <td>&lt;p&gt;安徽大口径的那块基本达标，啊u大号都i啊d。&lt;/p&gt;</td>\n",
       "    </tr>\n",
       "    <tr>\n",
       "      <td>161</td>\n",
       "      <td>T周超一</td>\n",
       "      <td>开放问题-1</td>\n",
       "      <td>还需要一段时间的锻炼后胜任</td>\n",
       "      <td>&lt;p&gt;dadaffa sfafafafa&amp;nbsp;&lt;/p&gt;</td>\n",
       "    </tr>\n",
       "    <tr>\n",
       "      <td>162</td>\n",
       "      <td>T周超一</td>\n",
       "      <td>开放问题-2</td>\n",
       "      <td>NaN</td>\n",
       "      <td>&lt;p&gt;阿卜杜拉就拿两块大陆开放&lt;/p&gt;</td>\n",
       "    </tr>\n",
       "    <tr>\n",
       "      <td>163</td>\n",
       "      <td>T周超一</td>\n",
       "      <td>开放问题-3</td>\n",
       "      <td>NaN</td>\n",
       "      <td>&lt;p&gt;的bald哪里看到你啦&lt;/p&gt;</td>\n",
       "    </tr>\n",
       "    <tr>\n",
       "      <td>230</td>\n",
       "      <td>T左爱卓</td>\n",
       "      <td>开放问题-1</td>\n",
       "      <td>还需要一段时间的锻炼后胜任</td>\n",
       "      <td>&lt;p&gt;啊u到i低价id，按键都i阿娇哦看&lt;/p&gt;</td>\n",
       "    </tr>\n",
       "    <tr>\n",
       "      <td>251</td>\n",
       "      <td>T左爱卓</td>\n",
       "      <td>开放问题-3</td>\n",
       "      <td>NaN</td>\n",
       "      <td>&lt;p&gt;啊啊啊啊啊啊啊&lt;/p&gt;</td>\n",
       "    </tr>\n",
       "    <tr>\n",
       "      <td>252</td>\n",
       "      <td>T左爱卓</td>\n",
       "      <td>开放问题-2</td>\n",
       "      <td>NaN</td>\n",
       "      <td>&lt;p&gt;呆呆地哦i就，安东i觉得&lt;/p&gt;</td>\n",
       "    </tr>\n",
       "  </tbody>\n",
       "</table>\n",
       "</div>"
      ],
      "text/plain": [
       "    参与者姓氏    资格姓名         资格评分描述                              部分评论\n",
       "20     SF  开放问题-1            不胜任          <p>因为******，所以我认为不胜任</p>\n",
       "21     SF  开放问题-2            NaN      <p>阿达的内部空间牛仔裤聚餐，大红i单号i的。</p>\n",
       "22     SF  开放问题-3            NaN           <p>打洞把必定会i，哦i阿娇的炮击的</p>\n",
       "43     钢铁  开放问题-3            NaN              <p>啊打活动i骄傲的，回到i就</p>\n",
       "44     钢铁  开放问题-2            NaN             <p>阿斗都爱嗲，觉得好i巨大的。</p>\n",
       "45     钢铁  开放问题-1  还需要一段时间的锻炼后胜任            <p>安红豆i加大对会，好的骄傲的。</p>\n",
       "66      鹰  开放问题-1             胜任               <p>覅u共i皇后哦i哦i经济</p>\n",
       "67      鹰  开放问题-2            NaN            <p>客机从i巨大的哦i，安徽到几。</p>\n",
       "68      鹰  开放问题-3            NaN        <p>安顿好i丹东i，都i阿娇哦打开急迫的。</p>\n",
       "89     美国  开放问题-1  还需要一段时间的锻炼后胜任          <p>啊的空间哈打卡机的，奥迪啊u和大地</p>\n",
       "90     美国  开放问题-2            NaN      <p>啊u关系啊u会打电话啊，还u单号i觉得哦i</p>\n",
       "91     美国  开放问题-3            NaN   <p>啊u活动i啊回答被当局哈迪，好的骄傲i大家安排就</p>\n",
       "112    洛基  开放问题-1  还需要一段时间的锻炼后胜任  <p>dadjaldnabfdajd,赌球活动i阿吉豆。</p>\n",
       "113    洛基  开放问题-2            NaN       <p>安定哈达就把大家，大喊大叫到了卡迪拉克。</p>\n",
       "114    洛基  开放问题-3            NaN          <p>啊打多久哦i啊打，阿耨i大家都啊，</p>\n",
       "115    蜘蛛  开放问题-3            NaN              <p>安科技大楼打单机翻到你缺乏</p>\n",
       "116    蜘蛛  开放问题-2            NaN                  <p>你承担别擦了看到那</p>\n",
       "117    蜘蛛  开放问题-1             胜任             <p>爱丁堡卡达都不看的，大号打，</p>\n",
       "158     雷  开放问题-3            NaN         <p>啊u到i大家哦i，大红的骄傲i大家。</p>\n",
       "159     雷  开放问题-2            NaN            <p>大丢啊嗲家ida，u爱的好久哦</p>\n",
       "160     雷  开放问题-1             胜任     <p>安徽大口径的那块基本达标，啊u大号都i啊d。</p>\n",
       "161  T周超一  开放问题-1  还需要一段时间的锻炼后胜任    <p>dadaffa sfafafafa&nbsp;</p>\n",
       "162  T周超一  开放问题-2            NaN               <p>阿卜杜拉就拿两块大陆开放</p>\n",
       "163  T周超一  开放问题-3            NaN                <p>的bald哪里看到你啦</p>\n",
       "230  T左爱卓  开放问题-1  还需要一段时间的锻炼后胜任          <p>啊u到i低价id，按键都i阿娇哦看</p>\n",
       "251  T左爱卓  开放问题-3            NaN                    <p>啊啊啊啊啊啊啊</p>\n",
       "252  T左爱卓  开放问题-2            NaN               <p>呆呆地哦i就，安东i觉得</p>"
      ]
     },
     "execution_count": 1251,
     "metadata": {},
     "output_type": "execute_result"
    }
   ],
   "source": [
    "youpinglun"
   ]
  },
  {
   "cell_type": "markdown",
   "metadata": {},
   "source": [
    "开放问题-1"
   ]
  },
  {
   "cell_type": "code",
   "execution_count": 1252,
   "metadata": {},
   "outputs": [],
   "source": [
    "kaifangwenti1 = youpinglun.query('资格姓名==\"开放问题-1\"')   "
   ]
  },
  {
   "cell_type": "code",
   "execution_count": 1253,
   "metadata": {},
   "outputs": [
    {
     "data": {
      "text/html": [
       "<div>\n",
       "<style scoped>\n",
       "    .dataframe tbody tr th:only-of-type {\n",
       "        vertical-align: middle;\n",
       "    }\n",
       "\n",
       "    .dataframe tbody tr th {\n",
       "        vertical-align: top;\n",
       "    }\n",
       "\n",
       "    .dataframe thead th {\n",
       "        text-align: right;\n",
       "    }\n",
       "</style>\n",
       "<table border=\"1\" class=\"dataframe\">\n",
       "  <thead>\n",
       "    <tr style=\"text-align: right;\">\n",
       "      <th></th>\n",
       "      <th>参与者姓氏</th>\n",
       "      <th>资格姓名</th>\n",
       "      <th>资格评分描述</th>\n",
       "      <th>部分评论</th>\n",
       "    </tr>\n",
       "  </thead>\n",
       "  <tbody>\n",
       "    <tr>\n",
       "      <td>20</td>\n",
       "      <td>SF</td>\n",
       "      <td>开放问题-1</td>\n",
       "      <td>不胜任</td>\n",
       "      <td>&lt;p&gt;因为******，所以我认为不胜任&lt;/p&gt;</td>\n",
       "    </tr>\n",
       "    <tr>\n",
       "      <td>45</td>\n",
       "      <td>钢铁</td>\n",
       "      <td>开放问题-1</td>\n",
       "      <td>还需要一段时间的锻炼后胜任</td>\n",
       "      <td>&lt;p&gt;安红豆i加大对会，好的骄傲的。&lt;/p&gt;</td>\n",
       "    </tr>\n",
       "    <tr>\n",
       "      <td>66</td>\n",
       "      <td>鹰</td>\n",
       "      <td>开放问题-1</td>\n",
       "      <td>胜任</td>\n",
       "      <td>&lt;p&gt;覅u共i皇后哦i哦i经济&lt;/p&gt;</td>\n",
       "    </tr>\n",
       "    <tr>\n",
       "      <td>89</td>\n",
       "      <td>美国</td>\n",
       "      <td>开放问题-1</td>\n",
       "      <td>还需要一段时间的锻炼后胜任</td>\n",
       "      <td>&lt;p&gt;啊的空间哈打卡机的，奥迪啊u和大地&lt;/p&gt;</td>\n",
       "    </tr>\n",
       "    <tr>\n",
       "      <td>112</td>\n",
       "      <td>洛基</td>\n",
       "      <td>开放问题-1</td>\n",
       "      <td>还需要一段时间的锻炼后胜任</td>\n",
       "      <td>&lt;p&gt;dadjaldnabfdajd,赌球活动i阿吉豆。&lt;/p&gt;</td>\n",
       "    </tr>\n",
       "    <tr>\n",
       "      <td>117</td>\n",
       "      <td>蜘蛛</td>\n",
       "      <td>开放问题-1</td>\n",
       "      <td>胜任</td>\n",
       "      <td>&lt;p&gt;爱丁堡卡达都不看的，大号打，&lt;/p&gt;</td>\n",
       "    </tr>\n",
       "    <tr>\n",
       "      <td>160</td>\n",
       "      <td>雷</td>\n",
       "      <td>开放问题-1</td>\n",
       "      <td>胜任</td>\n",
       "      <td>&lt;p&gt;安徽大口径的那块基本达标，啊u大号都i啊d。&lt;/p&gt;</td>\n",
       "    </tr>\n",
       "    <tr>\n",
       "      <td>161</td>\n",
       "      <td>T周超一</td>\n",
       "      <td>开放问题-1</td>\n",
       "      <td>还需要一段时间的锻炼后胜任</td>\n",
       "      <td>&lt;p&gt;dadaffa sfafafafa&amp;nbsp;&lt;/p&gt;</td>\n",
       "    </tr>\n",
       "    <tr>\n",
       "      <td>230</td>\n",
       "      <td>T左爱卓</td>\n",
       "      <td>开放问题-1</td>\n",
       "      <td>还需要一段时间的锻炼后胜任</td>\n",
       "      <td>&lt;p&gt;啊u到i低价id，按键都i阿娇哦看&lt;/p&gt;</td>\n",
       "    </tr>\n",
       "  </tbody>\n",
       "</table>\n",
       "</div>"
      ],
      "text/plain": [
       "    参与者姓氏    资格姓名         资格评分描述                              部分评论\n",
       "20     SF  开放问题-1            不胜任          <p>因为******，所以我认为不胜任</p>\n",
       "45     钢铁  开放问题-1  还需要一段时间的锻炼后胜任            <p>安红豆i加大对会，好的骄傲的。</p>\n",
       "66      鹰  开放问题-1             胜任               <p>覅u共i皇后哦i哦i经济</p>\n",
       "89     美国  开放问题-1  还需要一段时间的锻炼后胜任          <p>啊的空间哈打卡机的，奥迪啊u和大地</p>\n",
       "112    洛基  开放问题-1  还需要一段时间的锻炼后胜任  <p>dadjaldnabfdajd,赌球活动i阿吉豆。</p>\n",
       "117    蜘蛛  开放问题-1             胜任             <p>爱丁堡卡达都不看的，大号打，</p>\n",
       "160     雷  开放问题-1             胜任     <p>安徽大口径的那块基本达标，啊u大号都i啊d。</p>\n",
       "161  T周超一  开放问题-1  还需要一段时间的锻炼后胜任    <p>dadaffa sfafafafa&nbsp;</p>\n",
       "230  T左爱卓  开放问题-1  还需要一段时间的锻炼后胜任          <p>啊u到i低价id，按键都i阿娇哦看</p>"
      ]
     },
     "execution_count": 1253,
     "metadata": {},
     "output_type": "execute_result"
    }
   ],
   "source": [
    "kaifangwenti1"
   ]
  },
  {
   "cell_type": "code",
   "execution_count": 1254,
   "metadata": {},
   "outputs": [],
   "source": [
    "kaifangwenti1_bushengren = kaifangwenti1.query('资格评分描述 == \"不胜任\"')"
   ]
  },
  {
   "cell_type": "code",
   "execution_count": 1255,
   "metadata": {},
   "outputs": [
    {
     "data": {
      "text/html": [
       "<div>\n",
       "<style scoped>\n",
       "    .dataframe tbody tr th:only-of-type {\n",
       "        vertical-align: middle;\n",
       "    }\n",
       "\n",
       "    .dataframe tbody tr th {\n",
       "        vertical-align: top;\n",
       "    }\n",
       "\n",
       "    .dataframe thead th {\n",
       "        text-align: right;\n",
       "    }\n",
       "</style>\n",
       "<table border=\"1\" class=\"dataframe\">\n",
       "  <thead>\n",
       "    <tr style=\"text-align: right;\">\n",
       "      <th></th>\n",
       "      <th>参与者姓氏</th>\n",
       "      <th>资格姓名</th>\n",
       "      <th>资格评分描述</th>\n",
       "      <th>部分评论</th>\n",
       "    </tr>\n",
       "  </thead>\n",
       "  <tbody>\n",
       "    <tr>\n",
       "      <td>20</td>\n",
       "      <td>SF</td>\n",
       "      <td>开放问题-1</td>\n",
       "      <td>不胜任</td>\n",
       "      <td>&lt;p&gt;因为******，所以我认为不胜任&lt;/p&gt;</td>\n",
       "    </tr>\n",
       "  </tbody>\n",
       "</table>\n",
       "</div>"
      ],
      "text/plain": [
       "   参与者姓氏    资格姓名 资格评分描述                      部分评论\n",
       "20    SF  开放问题-1    不胜任  <p>因为******，所以我认为不胜任</p>"
      ]
     },
     "execution_count": 1255,
     "metadata": {},
     "output_type": "execute_result"
    }
   ],
   "source": [
    "kaifangwenti1_bushengren"
   ]
  },
  {
   "cell_type": "code",
   "execution_count": 1256,
   "metadata": {},
   "outputs": [],
   "source": [
    "i=12\n",
    "for tichuren in kaifangwenti1_bushengren['参与者姓氏']:\n",
    "    sheet2['A'+str(i)] = tichuren\n",
    "    \n",
    "    i+=1"
   ]
  },
  {
   "cell_type": "code",
   "execution_count": 1257,
   "metadata": {},
   "outputs": [],
   "source": [
    "i=12\n",
    "for neirong in kaifangwenti1_bushengren['部分评论']:\n",
    "    sheet2['B'+str(i)] = neirong\n",
    "    \n",
    "    i+=1"
   ]
  },
  {
   "cell_type": "code",
   "execution_count": 1258,
   "metadata": {},
   "outputs": [],
   "source": [
    "kaifangwenti2 = youpinglun.query('资格姓名==\"开放问题-2\"')   "
   ]
  },
  {
   "cell_type": "code",
   "execution_count": 1259,
   "metadata": {},
   "outputs": [
    {
     "data": {
      "text/html": [
       "<div>\n",
       "<style scoped>\n",
       "    .dataframe tbody tr th:only-of-type {\n",
       "        vertical-align: middle;\n",
       "    }\n",
       "\n",
       "    .dataframe tbody tr th {\n",
       "        vertical-align: top;\n",
       "    }\n",
       "\n",
       "    .dataframe thead th {\n",
       "        text-align: right;\n",
       "    }\n",
       "</style>\n",
       "<table border=\"1\" class=\"dataframe\">\n",
       "  <thead>\n",
       "    <tr style=\"text-align: right;\">\n",
       "      <th></th>\n",
       "      <th>参与者姓氏</th>\n",
       "      <th>资格姓名</th>\n",
       "      <th>资格评分描述</th>\n",
       "      <th>部分评论</th>\n",
       "    </tr>\n",
       "  </thead>\n",
       "  <tbody>\n",
       "    <tr>\n",
       "      <td>21</td>\n",
       "      <td>SF</td>\n",
       "      <td>开放问题-2</td>\n",
       "      <td>NaN</td>\n",
       "      <td>&lt;p&gt;阿达的内部空间牛仔裤聚餐，大红i单号i的。&lt;/p&gt;</td>\n",
       "    </tr>\n",
       "    <tr>\n",
       "      <td>44</td>\n",
       "      <td>钢铁</td>\n",
       "      <td>开放问题-2</td>\n",
       "      <td>NaN</td>\n",
       "      <td>&lt;p&gt;阿斗都爱嗲，觉得好i巨大的。&lt;/p&gt;</td>\n",
       "    </tr>\n",
       "    <tr>\n",
       "      <td>67</td>\n",
       "      <td>鹰</td>\n",
       "      <td>开放问题-2</td>\n",
       "      <td>NaN</td>\n",
       "      <td>&lt;p&gt;客机从i巨大的哦i，安徽到几。&lt;/p&gt;</td>\n",
       "    </tr>\n",
       "    <tr>\n",
       "      <td>90</td>\n",
       "      <td>美国</td>\n",
       "      <td>开放问题-2</td>\n",
       "      <td>NaN</td>\n",
       "      <td>&lt;p&gt;啊u关系啊u会打电话啊，还u单号i觉得哦i&lt;/p&gt;</td>\n",
       "    </tr>\n",
       "    <tr>\n",
       "      <td>113</td>\n",
       "      <td>洛基</td>\n",
       "      <td>开放问题-2</td>\n",
       "      <td>NaN</td>\n",
       "      <td>&lt;p&gt;安定哈达就把大家，大喊大叫到了卡迪拉克。&lt;/p&gt;</td>\n",
       "    </tr>\n",
       "    <tr>\n",
       "      <td>116</td>\n",
       "      <td>蜘蛛</td>\n",
       "      <td>开放问题-2</td>\n",
       "      <td>NaN</td>\n",
       "      <td>&lt;p&gt;你承担别擦了看到那&lt;/p&gt;</td>\n",
       "    </tr>\n",
       "    <tr>\n",
       "      <td>159</td>\n",
       "      <td>雷</td>\n",
       "      <td>开放问题-2</td>\n",
       "      <td>NaN</td>\n",
       "      <td>&lt;p&gt;大丢啊嗲家ida，u爱的好久哦&lt;/p&gt;</td>\n",
       "    </tr>\n",
       "    <tr>\n",
       "      <td>162</td>\n",
       "      <td>T周超一</td>\n",
       "      <td>开放问题-2</td>\n",
       "      <td>NaN</td>\n",
       "      <td>&lt;p&gt;阿卜杜拉就拿两块大陆开放&lt;/p&gt;</td>\n",
       "    </tr>\n",
       "    <tr>\n",
       "      <td>252</td>\n",
       "      <td>T左爱卓</td>\n",
       "      <td>开放问题-2</td>\n",
       "      <td>NaN</td>\n",
       "      <td>&lt;p&gt;呆呆地哦i就，安东i觉得&lt;/p&gt;</td>\n",
       "    </tr>\n",
       "  </tbody>\n",
       "</table>\n",
       "</div>"
      ],
      "text/plain": [
       "    参与者姓氏    资格姓名 资格评分描述                          部分评论\n",
       "21     SF  开放问题-2    NaN  <p>阿达的内部空间牛仔裤聚餐，大红i单号i的。</p>\n",
       "44     钢铁  开放问题-2    NaN         <p>阿斗都爱嗲，觉得好i巨大的。</p>\n",
       "67      鹰  开放问题-2    NaN        <p>客机从i巨大的哦i，安徽到几。</p>\n",
       "90     美国  开放问题-2    NaN  <p>啊u关系啊u会打电话啊，还u单号i觉得哦i</p>\n",
       "113    洛基  开放问题-2    NaN   <p>安定哈达就把大家，大喊大叫到了卡迪拉克。</p>\n",
       "116    蜘蛛  开放问题-2    NaN              <p>你承担别擦了看到那</p>\n",
       "159     雷  开放问题-2    NaN        <p>大丢啊嗲家ida，u爱的好久哦</p>\n",
       "162  T周超一  开放问题-2    NaN           <p>阿卜杜拉就拿两块大陆开放</p>\n",
       "252  T左爱卓  开放问题-2    NaN           <p>呆呆地哦i就，安东i觉得</p>"
      ]
     },
     "execution_count": 1259,
     "metadata": {},
     "output_type": "execute_result"
    }
   ],
   "source": [
    "kaifangwenti2"
   ]
  },
  {
   "cell_type": "code",
   "execution_count": 1260,
   "metadata": {},
   "outputs": [],
   "source": [
    "i=12\n",
    "for tichuren1 in kaifangwenti2['参与者姓氏']:\n",
    "    sheet2['F'+str(i)] = tichuren1\n",
    "    \n",
    "    i+=1"
   ]
  },
  {
   "cell_type": "code",
   "execution_count": 1261,
   "metadata": {},
   "outputs": [],
   "source": [
    "i=12\n",
    "for neirong1 in kaifangwenti2['部分评论']:\n",
    "    sheet2['G'+str(i)] = neirong1\n",
    "    \n",
    "    i+=1"
   ]
  },
  {
   "cell_type": "code",
   "execution_count": 1262,
   "metadata": {},
   "outputs": [],
   "source": [
    "kaifangwenti3 = youpinglun.query('资格姓名==\"开放问题-3\"')   "
   ]
  },
  {
   "cell_type": "code",
   "execution_count": 1263,
   "metadata": {},
   "outputs": [
    {
     "data": {
      "text/html": [
       "<div>\n",
       "<style scoped>\n",
       "    .dataframe tbody tr th:only-of-type {\n",
       "        vertical-align: middle;\n",
       "    }\n",
       "\n",
       "    .dataframe tbody tr th {\n",
       "        vertical-align: top;\n",
       "    }\n",
       "\n",
       "    .dataframe thead th {\n",
       "        text-align: right;\n",
       "    }\n",
       "</style>\n",
       "<table border=\"1\" class=\"dataframe\">\n",
       "  <thead>\n",
       "    <tr style=\"text-align: right;\">\n",
       "      <th></th>\n",
       "      <th>参与者姓氏</th>\n",
       "      <th>资格姓名</th>\n",
       "      <th>资格评分描述</th>\n",
       "      <th>部分评论</th>\n",
       "    </tr>\n",
       "  </thead>\n",
       "  <tbody>\n",
       "    <tr>\n",
       "      <td>22</td>\n",
       "      <td>SF</td>\n",
       "      <td>开放问题-3</td>\n",
       "      <td>NaN</td>\n",
       "      <td>&lt;p&gt;打洞把必定会i，哦i阿娇的炮击的&lt;/p&gt;</td>\n",
       "    </tr>\n",
       "    <tr>\n",
       "      <td>43</td>\n",
       "      <td>钢铁</td>\n",
       "      <td>开放问题-3</td>\n",
       "      <td>NaN</td>\n",
       "      <td>&lt;p&gt;啊打活动i骄傲的，回到i就&lt;/p&gt;</td>\n",
       "    </tr>\n",
       "    <tr>\n",
       "      <td>68</td>\n",
       "      <td>鹰</td>\n",
       "      <td>开放问题-3</td>\n",
       "      <td>NaN</td>\n",
       "      <td>&lt;p&gt;安顿好i丹东i，都i阿娇哦打开急迫的。&lt;/p&gt;</td>\n",
       "    </tr>\n",
       "    <tr>\n",
       "      <td>91</td>\n",
       "      <td>美国</td>\n",
       "      <td>开放问题-3</td>\n",
       "      <td>NaN</td>\n",
       "      <td>&lt;p&gt;啊u活动i啊回答被当局哈迪，好的骄傲i大家安排就&lt;/p&gt;</td>\n",
       "    </tr>\n",
       "    <tr>\n",
       "      <td>114</td>\n",
       "      <td>洛基</td>\n",
       "      <td>开放问题-3</td>\n",
       "      <td>NaN</td>\n",
       "      <td>&lt;p&gt;啊打多久哦i啊打，阿耨i大家都啊，&lt;/p&gt;</td>\n",
       "    </tr>\n",
       "    <tr>\n",
       "      <td>115</td>\n",
       "      <td>蜘蛛</td>\n",
       "      <td>开放问题-3</td>\n",
       "      <td>NaN</td>\n",
       "      <td>&lt;p&gt;安科技大楼打单机翻到你缺乏&lt;/p&gt;</td>\n",
       "    </tr>\n",
       "    <tr>\n",
       "      <td>158</td>\n",
       "      <td>雷</td>\n",
       "      <td>开放问题-3</td>\n",
       "      <td>NaN</td>\n",
       "      <td>&lt;p&gt;啊u到i大家哦i，大红的骄傲i大家。&lt;/p&gt;</td>\n",
       "    </tr>\n",
       "    <tr>\n",
       "      <td>163</td>\n",
       "      <td>T周超一</td>\n",
       "      <td>开放问题-3</td>\n",
       "      <td>NaN</td>\n",
       "      <td>&lt;p&gt;的bald哪里看到你啦&lt;/p&gt;</td>\n",
       "    </tr>\n",
       "    <tr>\n",
       "      <td>251</td>\n",
       "      <td>T左爱卓</td>\n",
       "      <td>开放问题-3</td>\n",
       "      <td>NaN</td>\n",
       "      <td>&lt;p&gt;啊啊啊啊啊啊啊&lt;/p&gt;</td>\n",
       "    </tr>\n",
       "  </tbody>\n",
       "</table>\n",
       "</div>"
      ],
      "text/plain": [
       "    参与者姓氏    资格姓名 资格评分描述                             部分评论\n",
       "22     SF  开放问题-3    NaN          <p>打洞把必定会i，哦i阿娇的炮击的</p>\n",
       "43     钢铁  开放问题-3    NaN             <p>啊打活动i骄傲的，回到i就</p>\n",
       "68      鹰  开放问题-3    NaN       <p>安顿好i丹东i，都i阿娇哦打开急迫的。</p>\n",
       "91     美国  开放问题-3    NaN  <p>啊u活动i啊回答被当局哈迪，好的骄傲i大家安排就</p>\n",
       "114    洛基  开放问题-3    NaN         <p>啊打多久哦i啊打，阿耨i大家都啊，</p>\n",
       "115    蜘蛛  开放问题-3    NaN             <p>安科技大楼打单机翻到你缺乏</p>\n",
       "158     雷  开放问题-3    NaN        <p>啊u到i大家哦i，大红的骄傲i大家。</p>\n",
       "163  T周超一  开放问题-3    NaN               <p>的bald哪里看到你啦</p>\n",
       "251  T左爱卓  开放问题-3    NaN                   <p>啊啊啊啊啊啊啊</p>"
      ]
     },
     "execution_count": 1263,
     "metadata": {},
     "output_type": "execute_result"
    }
   ],
   "source": [
    "kaifangwenti3"
   ]
  },
  {
   "cell_type": "code",
   "execution_count": 1264,
   "metadata": {},
   "outputs": [],
   "source": [
    "i=12\n",
    "for tichuren2 in kaifangwenti3['参与者姓氏']:\n",
    "    sheet2['K'+str(i)] = tichuren2\n",
    "    \n",
    "    i+=1"
   ]
  },
  {
   "cell_type": "code",
   "execution_count": 1265,
   "metadata": {},
   "outputs": [],
   "source": [
    "i=12\n",
    "for neirong2 in kaifangwenti3['部分评论']:\n",
    "    sheet2['L'+str(i)] = neirong2\n",
    "    \n",
    "    i+=1"
   ]
  },
  {
   "cell_type": "markdown",
   "metadata": {},
   "source": [
    "对高岗位的挑战与要求的胜任评分"
   ]
  },
  {
   "cell_type": "markdown",
   "metadata": {},
   "source": [
    "横向的开放问题1"
   ]
  },
  {
   "cell_type": "code",
   "execution_count": 1266,
   "metadata": {},
   "outputs": [],
   "source": [
    "hengxiang_kaifangwenti1 = hengxiang.query('资格姓名 == \"开放问题-1\"') #筛选是否胜任问题\n",
    "hengxiang_peo = len(hengxiang_kaifangwenti1) #算横向人数\n",
    "hengxiang_kaifangwenti1_shengren = hengxiang_kaifangwenti1.query('资格评分 == 3 ') #筛选胜任\n",
    "hengxiang_kaifangwenti1_shengren_df = len(hengxiang_kaifangwenti1_shengren) #算胜任人数\n",
    "hengxiang_kaifangwenti1_haixu = hengxiang_kaifangwenti1.query('资格评分 == 2') #筛选还需\n",
    "hengxiang_kaifangwenti1_haixu_df = len(hengxiang_kaifangwenti1_haixu) #算还需人数\n",
    "hengxiang_kaifangwenti1_bushengren = hengxiang_kaifangwenti1.query('资格评分 == 1') #筛选不胜任\n",
    "hengxiang_kaifangwenti1_bushengren_df = len(hengxiang_kaifangwenti1_bushengren) #算不胜任人数\n",
    "hengxiang_shengren_perc =  hengxiang_kaifangwenti1_shengren_df/hengxiang_peo #横向的胜任比例\n",
    "hengxiang_haixu_perc = hengxiang_kaifangwenti1_haixu_df/hengxiang_peo #横向的还需比例\n",
    "hengxiang_bushengren_perc = hengxiang_kaifangwenti1_bushengren_df/hengxiang_peo #横向的不胜任比例"
   ]
  },
  {
   "cell_type": "code",
   "execution_count": 1267,
   "metadata": {},
   "outputs": [],
   "source": [
    "sheet2['M6'] = float(hengxiang_shengren_perc)\n",
    "sheet2['M7'] = float(hengxiang_shengren_perc)\n",
    "sheet2['M8'] = float(hengxiang_shengren_perc)"
   ]
  },
  {
   "cell_type": "markdown",
   "metadata": {},
   "source": [
    "上级&党委的开放问题1"
   ]
  },
  {
   "cell_type": "code",
   "execution_count": 1268,
   "metadata": {},
   "outputs": [],
   "source": [
    "shangji_kaifangwenti1 = shangji.query('资格姓名 == \"开放问题-1\"') #筛选是否胜任问题\n",
    "shangji_peo = len(hengxiang_kaifangwenti1) #算上级&党委人数\n",
    "shangji_kaifangwenti1_shengren = shangji_kaifangwenti1.query('资格评分 == 3 ') #筛选胜任\n",
    "shangji_kaifangwenti1_shengren_df = len(shangji_kaifangwenti1_shengren) #算胜任人数\n",
    "shangji_kaifangwenti1_haixu = shangji_kaifangwenti1.query('资格评分 == 2') #筛选还需\n",
    "shangji_kaifangwenti1_haixu_df = len(shangji_kaifangwenti1_haixu) #算还需人数\n",
    "shangji_kaifangwenti1_bushengren = shangji_kaifangwenti1.query('资格评分 == 1') #筛选不胜任\n",
    "shangji_kaifangwenti1_bushengren_df = len(shangji_kaifangwenti1_bushengren) #算不胜任人数\n",
    "shangji_shengren_perc =  shangji_kaifangwenti1_shengren_df/shangji_peo #上级党委的胜任比例\n",
    "shangji_haixu_perc = shangji_kaifangwenti1_haixu_df/shangji_peo #上级党委的还需比例\n",
    "shangji_bushengren_perc = shangji_kaifangwenti1_bushengren_df/shangji_peo #上级党委的不胜任比例"
   ]
  },
  {
   "cell_type": "code",
   "execution_count": 1269,
   "metadata": {},
   "outputs": [],
   "source": [
    "sheet2['K6'] = float(hengxiang_shengren_perc)\n",
    "sheet2['K7'] = float(hengxiang_shengren_perc)\n",
    "sheet2['K8'] = float(hengxiang_shengren_perc)"
   ]
  },
  {
   "cell_type": "markdown",
   "metadata": {},
   "source": [
    "下属的开放问题1"
   ]
  },
  {
   "cell_type": "code",
   "execution_count": 1270,
   "metadata": {},
   "outputs": [],
   "source": [
    "xiashu_kaifangwenti1 = xiashu.query('资格姓名 == \"开放问题-1\"') #筛选是否胜任问题\n",
    "xiashu_peo = len(xiashu_kaifangwenti1) #算上级&党委人数\n",
    "xiashu_kaifangwenti1_shengren = xiashu_kaifangwenti1.query('资格评分 == 3 ') #筛选胜任\n",
    "xiashu_kaifangwenti1_shengren_df = len(xiashu_kaifangwenti1_shengren) #算胜任人数\n",
    "xiashu_kaifangwenti1_haixu = xiashu_kaifangwenti1.query('资格评分 == 2') #筛选还需\n",
    "xiashu_kaifangwenti1_haixu_df = len(xiashu_kaifangwenti1_haixu) #算还需人数\n",
    "xiashu_kaifangwenti1_bushengren = xiashu_kaifangwenti1.query('资格评分 == 1') #筛选不胜任\n",
    "xiashu_kaifangwenti1_bushengren_df = len(xiashu_kaifangwenti1_bushengren) #算不胜任人数\n",
    "xiashu_shengren_perc =  xiashu_kaifangwenti1_shengren_df/xiashu_peo #上级党委的胜任比例\n",
    "xiashu_haixu_perc = xiashu_kaifangwenti1_haixu_df/xiashu_peo #上级党委的还需比例\n",
    "xiashu_bushengren_perc = xiashu_kaifangwenti1_bushengren_df/xiashu_peo #上级党委的不胜任比例"
   ]
  },
  {
   "cell_type": "code",
   "execution_count": 1271,
   "metadata": {},
   "outputs": [],
   "source": [
    "sheet2['O6'] = float(hengxiang_shengren_perc)\n",
    "sheet2['O7'] = float(hengxiang_shengren_perc)\n",
    "sheet2['O8'] = float(hengxiang_shengren_perc)"
   ]
  },
  {
   "cell_type": "markdown",
   "metadata": {},
   "source": [
    "综合的开放问题1"
   ]
  },
  {
   "cell_type": "code",
   "execution_count": 1272,
   "metadata": {},
   "outputs": [],
   "source": [
    "df2 = df[['参与者类别','资格评分','资格姓名']].drop_duplicates()"
   ]
  },
  {
   "cell_type": "code",
   "execution_count": 1273,
   "metadata": {},
   "outputs": [],
   "source": [
    "df2_kaifangwenti1 = df2.query('资格姓名 == \"开放问题-1\"')"
   ]
  },
  {
   "cell_type": "code",
   "execution_count": 1274,
   "metadata": {},
   "outputs": [
    {
     "data": {
      "text/html": [
       "<div>\n",
       "<style scoped>\n",
       "    .dataframe tbody tr th:only-of-type {\n",
       "        vertical-align: middle;\n",
       "    }\n",
       "\n",
       "    .dataframe tbody tr th {\n",
       "        vertical-align: top;\n",
       "    }\n",
       "\n",
       "    .dataframe thead th {\n",
       "        text-align: right;\n",
       "    }\n",
       "</style>\n",
       "<table border=\"1\" class=\"dataframe\">\n",
       "  <thead>\n",
       "    <tr style=\"text-align: right;\">\n",
       "      <th></th>\n",
       "      <th>参与者类别</th>\n",
       "      <th>资格评分</th>\n",
       "      <th>资格姓名</th>\n",
       "    </tr>\n",
       "  </thead>\n",
       "  <tbody>\n",
       "    <tr>\n",
       "      <td>20</td>\n",
       "      <td>横向</td>\n",
       "      <td>1</td>\n",
       "      <td>开放问题-1</td>\n",
       "    </tr>\n",
       "    <tr>\n",
       "      <td>45</td>\n",
       "      <td>横向</td>\n",
       "      <td>2</td>\n",
       "      <td>开放问题-1</td>\n",
       "    </tr>\n",
       "    <tr>\n",
       "      <td>66</td>\n",
       "      <td>横向</td>\n",
       "      <td>3</td>\n",
       "      <td>开放问题-1</td>\n",
       "    </tr>\n",
       "    <tr>\n",
       "      <td>112</td>\n",
       "      <td>上级</td>\n",
       "      <td>2</td>\n",
       "      <td>开放问题-1</td>\n",
       "    </tr>\n",
       "    <tr>\n",
       "      <td>161</td>\n",
       "      <td>党委</td>\n",
       "      <td>2</td>\n",
       "      <td>开放问题-1</td>\n",
       "    </tr>\n",
       "    <tr>\n",
       "      <td>206</td>\n",
       "      <td>下属</td>\n",
       "      <td>3</td>\n",
       "      <td>开放问题-1</td>\n",
       "    </tr>\n",
       "  </tbody>\n",
       "</table>\n",
       "</div>"
      ],
      "text/plain": [
       "    参与者类别 资格评分    资格姓名\n",
       "20     横向    1  开放问题-1\n",
       "45     横向    2  开放问题-1\n",
       "66     横向    3  开放问题-1\n",
       "112    上级    2  开放问题-1\n",
       "161    党委    2  开放问题-1\n",
       "206    下属    3  开放问题-1"
      ]
     },
     "execution_count": 1274,
     "metadata": {},
     "output_type": "execute_result"
    }
   ],
   "source": [
    "df2_kaifangwenti1"
   ]
  },
  {
   "cell_type": "code",
   "execution_count": 1275,
   "metadata": {},
   "outputs": [],
   "source": [
    "df_kaifangwenti1_peo = len(df2_kaifangwenti1) #算总人头"
   ]
  },
  {
   "cell_type": "code",
   "execution_count": 1276,
   "metadata": {},
   "outputs": [],
   "source": [
    "df2_kaifangwenti1_shengren = df2_kaifangwenti1.query('资格评分 == 3') #综合胜任"
   ]
  },
  {
   "cell_type": "code",
   "execution_count": 1277,
   "metadata": {},
   "outputs": [],
   "source": [
    "df2_kaifangwenti1_shengren_peo = len(df2_kaifangwenti1_shengren) #综合胜任人头"
   ]
  },
  {
   "cell_type": "code",
   "execution_count": 1278,
   "metadata": {},
   "outputs": [],
   "source": [
    "df2_kaifangwenti1_shengren_perc = df2_kaifangwenti1_shengren_peo/df_kaifangwenti1_peo #综合胜任比例"
   ]
  },
  {
   "cell_type": "code",
   "execution_count": 1279,
   "metadata": {},
   "outputs": [],
   "source": [
    "df2_kaifangwenti1_haixu = df2_kaifangwenti1.query('资格评分 == 2') #综合还需"
   ]
  },
  {
   "cell_type": "code",
   "execution_count": 1280,
   "metadata": {},
   "outputs": [],
   "source": [
    "df2_kaifangwenti1_haixu_peo = len(df2_kaifangwenti1_haixu) #综合还需人头"
   ]
  },
  {
   "cell_type": "code",
   "execution_count": 1281,
   "metadata": {},
   "outputs": [],
   "source": [
    "df2_kaifangwenti1_haixu_perc = df2_kaifangwenti1_haixu_peo/df_kaifangwenti1_peo #综合还需比例"
   ]
  },
  {
   "cell_type": "code",
   "execution_count": 1282,
   "metadata": {},
   "outputs": [],
   "source": [
    "df2_kaifangwenti1_bushengren = df2_kaifangwenti1.query('资格评分 == 1') #综合不胜任"
   ]
  },
  {
   "cell_type": "code",
   "execution_count": 1283,
   "metadata": {},
   "outputs": [],
   "source": [
    "df2_kaifangwenti1_bushengren_peo = len(df2_kaifangwenti1_bushengren) #综合不胜任人头"
   ]
  },
  {
   "cell_type": "code",
   "execution_count": 1284,
   "metadata": {},
   "outputs": [],
   "source": [
    "df2_kaifangwenti1_bushengren_perc = df2_kaifangwenti1_bushengren_peo/df_kaifangwenti1_peo #综合不胜任比例"
   ]
  },
  {
   "cell_type": "code",
   "execution_count": 1285,
   "metadata": {},
   "outputs": [],
   "source": [
    "sheet2['H6'] = float(df2_kaifangwenti1_shengren_perc)\n",
    "sheet2['H7'] = float(df2_kaifangwenti1_haixu_perc)\n",
    "sheet2['H8'] = float(df2_kaifangwenti1_bushengren_perc)"
   ]
  },
  {
   "cell_type": "code",
   "execution_count": null,
   "metadata": {},
   "outputs": [],
   "source": []
  },
  {
   "cell_type": "code",
   "execution_count": null,
   "metadata": {},
   "outputs": [],
   "source": []
  },
  {
   "cell_type": "code",
   "execution_count": null,
   "metadata": {},
   "outputs": [],
   "source": []
  },
  {
   "cell_type": "code",
   "execution_count": 1286,
   "metadata": {},
   "outputs": [],
   "source": [
    "wb.save(file_name)"
   ]
  },
  {
   "cell_type": "code",
   "execution_count": null,
   "metadata": {},
   "outputs": [],
   "source": []
  },
  {
   "cell_type": "code",
   "execution_count": null,
   "metadata": {},
   "outputs": [],
   "source": []
  }
 ],
 "metadata": {
  "kernelspec": {
   "display_name": "Python 3",
   "language": "python",
   "name": "python3"
  },
  "language_info": {
   "codemirror_mode": {
    "name": "ipython",
    "version": 3
   },
   "file_extension": ".py",
   "mimetype": "text/x-python",
   "name": "python",
   "nbconvert_exporter": "python",
   "pygments_lexer": "ipython3",
   "version": "3.7.4"
  }
 },
 "nbformat": 4,
 "nbformat_minor": 5
}
